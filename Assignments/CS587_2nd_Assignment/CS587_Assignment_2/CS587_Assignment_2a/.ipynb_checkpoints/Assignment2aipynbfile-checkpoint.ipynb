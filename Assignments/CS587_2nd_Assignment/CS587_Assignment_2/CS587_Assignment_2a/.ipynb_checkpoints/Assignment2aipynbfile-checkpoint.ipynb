{
 "cells": [
  {
   "cell_type": "markdown",
   "metadata": {
    "id": "pla0wlS8jZlg"
   },
   "source": [
    "### **Welcome to the 2nd (short) assignment of CS-587!**\n",
    "\n",
    "The aim of this assignment is to get familiar with (a) the Tensorflow framework, and, (b) computational graphs and the information flow (forward, backward operation)!\n",
    "\n",
    "Before this assignment:\n",
    "- Read the 2nd tutorial slides found in [here](https://docs.google.com/presentation/d/1fAoPGhpYGk6hJibHCCXz5VmruLcTOtztU9wP2VZ1DNI/edit?usp=sharing)\n",
    "\n",
    "What you need to submit:\n",
    "\n",
    "a) This .ipynb or .py file\n",
    "\n",
    "b) A report (.pdf) with the requested tasks.\n",
    "\n"
   ]
  },
  {
   "cell_type": "markdown",
   "metadata": {
    "id": "hpbxp4Ftz-Iu"
   },
   "source": [
    "**Quick check on what you have installed** "
   ]
  },
  {
   "cell_type": "code",
   "execution_count": 2,
   "metadata": {
    "colab": {
     "base_uri": "https://localhost:8080/"
    },
    "id": "r8KYi-Uw0H50",
    "outputId": "910c7d2e-6d52-4fb8-a21c-6f5757c946f3"
   },
   "outputs": [
    {
     "name": "stdout",
     "output_type": "stream",
     "text": [
      "Python version: 3.6.13 |Anaconda, Inc.| (default, Jun  4 2021, 14:25:59) \n",
      "[GCC 7.5.0]\n",
      "TensorFlow version: 1.15.0\n"
     ]
    }
   ],
   "source": [
    "import sys\n",
    "print(\"Python version:\", sys.version)\n",
    "\n",
    "import tensorflow as tf\n",
    "print(\"TensorFlow version:\", tf.__version__) #1.15"
   ]
  },
  {
   "cell_type": "markdown",
   "metadata": {
    "id": "aeIJ16AUQusx"
   },
   "source": [
    "# **Part - 1: Basic TF operations**\n",
    "\n"
   ]
  },
  {
   "cell_type": "markdown",
   "metadata": {
    "id": "-FJ24zCm88jU"
   },
   "source": [
    "## Examples:"
   ]
  },
  {
   "cell_type": "markdown",
   "metadata": {
    "id": "Ac4lAe9Ai5M8"
   },
   "source": [
    "Constants"
   ]
  },
  {
   "cell_type": "code",
   "execution_count": 3,
   "metadata": {
    "colab": {
     "base_uri": "https://localhost:8080/",
     "height": 68
    },
    "id": "gEhLZ0xPiGLR",
    "outputId": "7a32bebf-5733-4d62-a291-6783d1c60d6f"
   },
   "outputs": [
    {
     "name": "stdout",
     "output_type": "stream",
     "text": [
      "a: 2 b: 3\n",
      "Addition with constants: 5\n",
      "Multiplication with constants: 6\n"
     ]
    }
   ],
   "source": [
    "# Basic constant operations\n",
    "# The value returned by the constructor represents the output\n",
    "# of the Constant op.\n",
    "a = tf.constant(2)\n",
    "b = tf.constant(3)\n",
    "\n",
    "# Launch the default graph.\n",
    "with tf.Session() as sess:\n",
    "    print(\"a: %i\" % sess.run(a), \"b: %i\" % sess.run(b))\n",
    "    print (\"Addition with constants: %i\" % sess.run(a+b))\n",
    "    print (\"Multiplication with constants: %i\" % sess.run(a*b))"
   ]
  },
  {
   "cell_type": "markdown",
   "metadata": {
    "id": "FyZPZMXci9EN"
   },
   "source": [
    "Placeholders"
   ]
  },
  {
   "cell_type": "code",
   "execution_count": 4,
   "metadata": {
    "colab": {
     "base_uri": "https://localhost:8080/",
     "height": 51
    },
    "id": "fRtR-qMa4Q8H",
    "outputId": "adce1697-0bd2-4c29-e6bf-7f02b9fdd7ba"
   },
   "outputs": [
    {
     "name": "stdout",
     "output_type": "stream",
     "text": [
      "[1. 4. 9.]\n",
      "[ 0.  0. 25.]\n"
     ]
    }
   ],
   "source": [
    "## Example 1: simple placeholder \"feeding\"\n",
    "\n",
    "# Define a placeholder that expects a vector of three floating-point values,\n",
    "# and a computation that depends on it.\n",
    "x = tf.placeholder(tf.float32, shape=[3])\n",
    "y = tf.square(x)\n",
    "\n",
    "with tf.Session() as sess:\n",
    "  # Feeding a value changes the result that is returned when you evaluate `y`.\n",
    "  print(sess.run(y, {x: [1.0, 2.0, 3.0]}))  # => \"[1.0, 4.0, 9.0]\"\n",
    "  print(sess.run(y, {x: [0.0, 0.0, 5.0]}))  # => \"[0.0, 0.0,25.0]\"\n"
   ]
  },
  {
   "cell_type": "code",
   "execution_count": 5,
   "metadata": {
    "colab": {
     "base_uri": "https://localhost:8080/",
     "height": 68
    },
    "id": "d4HGF-BjjAZk",
    "outputId": "3e5b2e8d-27c2-453b-dce1-7672429ab54f"
   },
   "outputs": [
    {
     "name": "stdout",
     "output_type": "stream",
     "text": [
      "Addition with variables: 5\n",
      "Multiplication with variables: 12\n",
      "Substract with variables: -1\n"
     ]
    }
   ],
   "source": [
    "## Example 2:  Basic operations with placeholders\n",
    "\n",
    "a = tf.placeholder(tf.int16)\n",
    "b = tf.placeholder(tf.int16)\n",
    "\n",
    "# Define some operations\n",
    "add = tf.add(a, b)\n",
    "mul = tf.multiply(a, b)\n",
    "sub = tf.subtract(a,b)\n",
    "\n",
    "# Launch the default graph.\n",
    "with tf.Session() as sess:\n",
    "    # Run every operation with variable input\n",
    "    print (\"Addition with variables: %i\" % sess.run(add, feed_dict={a: 2, b: 3}))\n",
    "    print (\"Multiplication with variables: %i\" % sess.run(mul, feed_dict={a: 4, b: 3}))\n",
    "    print (\"Substract with variables: %i\" % sess.run(sub, feed_dict={a: 2, b: 3}))"
   ]
  },
  {
   "cell_type": "markdown",
   "metadata": {
    "id": "YKlZ4Ws69AXh"
   },
   "source": [
    "## **Assignment:**\n",
    "\n",
    "The goal is to define a linear regression model using TF operations, variables and placeholders. \n",
    "\n",
    "\n",
    "**Tasks**:\n",
    "- Define the weights and biases as variables with float32 format. Initialize the weight with 0.3 and the bias with -0.3\n",
    "- Define the x, y as placeholders with float32 format\n",
    "Q.1: Why do we use this formulation?\n",
    "- Define the model operation y = w*x+b\n",
    "\n",
    "- Define the loss (quadratic loss between model output and expected value). \n",
    "- Map some input-output data to your model tf.placeholders (x,y) so that we can evaluate the model.\n",
    "\n",
    "For this assignment you are allowed to use the functions:\n",
    "tf.mul, tf.add, tf.square and tf.reduce_sum \n",
    "\n",
    "As well as any other function in the tf framework that suits your needs.\n",
    "  "
   ]
  },
  {
   "cell_type": "code",
   "execution_count": 6,
   "metadata": {
    "id": "RKWWcPI498Tt"
   },
   "outputs": [
    {
     "name": "stdout",
     "output_type": "stream",
     "text": [
      "[-0.5291639, -0.3842745]\n"
     ]
    }
   ],
   "source": [
    "####################################################\n",
    "# TASK: Define the variables weights W and biases b\n",
    "###################################################\n",
    "#W = pass\n",
    "#b = pass\n",
    "W =  tf.Variable(0.3, dtype=tf.float32)\n",
    "b =  tf.Variable(-0.3, dtype=tf.float32)\n",
    "\n",
    "####################################################\n",
    "# TASK: Define inputs and outputs\n",
    "###################################################\n",
    "#x = pass\n",
    "#y = pass\n",
    "x = tf.placeholder(tf.float32)\n",
    "y = tf.placeholder(tf.float32)\n",
    "\n",
    "####################################################\n",
    "# TASK: Define the model\n",
    "####################################################\n",
    "#Model = pass\n",
    "Model = tf.add(tf.multiply(W,x),b)\n",
    "\n",
    "####################################################\n",
    "# TASK: Define the loss: Quadratic loss in our case\n",
    "####################################################\n",
    "#loss = pass\n",
    "loss = tf.reduce_sum(tf.square(Model - y))                   \n",
    "\n",
    "#Define an array to store the loss\n",
    "loss_arr = []\n",
    "\n",
    "#Start an optimizer to minimize loss and estimate the values of W and b that best approximate \n",
    "# the ground-truth output\n",
    "\n",
    "optimizer = tf.train.GradientDescentOptimizer(0.01)\n",
    "train = optimizer.minimize(loss)\n",
    "\n",
    "#Initialize variables\n",
    "init = tf.global_variables_initializer()\n",
    "\n",
    "# Start a session and actually do the initialization\n",
    "sess = tf.Session()\n",
    "\n",
    "sess.run(init)\n",
    "\n",
    "#And now lets run our model - for 10 iterations\n",
    "for i in range(10):\n",
    "    \n",
    "    ###############################################################################\n",
    "    # TASK:\n",
    "    # -add inside the brackets the values for x, y for which we need to evaluate our model\n",
    "    #   values  x = 1, 2, 3, 4, y = 0, -1, -2, -3\n",
    "    ##############################################################################\n",
    "    #_, lossy = sess.run([train, loss], { })\n",
    "    _, lossy = sess.run([train, loss], {x: [1, 2, 3, 4], y: [0, -1, -2, -3]})\n",
    "    \n",
    "    loss_arr.append(lossy) # store the loss values\n",
    "  \n",
    "# And now let's evaluate the variables (W,b)\n",
    "print(sess.run([W,b]))"
   ]
  },
  {
   "cell_type": "code",
   "execution_count": 7,
   "metadata": {
    "id": "lZvAJuJiqGR7"
   },
   "outputs": [
    {
     "data": {
      "text/plain": [
       "<function matplotlib.pyplot.show(close=None, block=None)>"
      ]
     },
     "execution_count": 7,
     "metadata": {},
     "output_type": "execute_result"
    },
    {
     "data": {
      "image/png": "[encoded data removed]",
      "text/plain": [
       "<Figure size 432x288 with 1 Axes>"
      ]
     },
     "metadata": {
      "needs_background": "light"
     },
     "output_type": "display_data"
    }
   ],
   "source": [
    "# And now let's see how the loss behaves\n",
    "import matplotlib.pyplot  as plt\n",
    "\n",
    "plt.plot(loss_arr)\n",
    "plt.axis([0, 6, 0, 20])\n",
    "plt.show"
   ]
  },
  {
   "cell_type": "markdown",
   "metadata": {
    "id": "IHAAfnFB3Ls4"
   },
   "source": [
    "# **Part - 2: Computational graphs and custom gradients**\n",
    "\n",
    "> Read before doing this part:\n",
    "\n",
    "[tf.custom_gradient](https://www.tensorflow.org/api_docs/python/tf/custom_gradient)\n",
    "\n",
    "\n",
    "\n"
   ]
  },
  {
   "cell_type": "markdown",
   "metadata": {
    "id": "8XgoCal90GQN"
   },
   "source": [
    "## Example: Defining a custom gradient \n",
    "- Specify the forward and backward operations for f(x) = log(1+e^x)"
   ]
  },
  {
   "cell_type": "code",
   "execution_count": 8,
   "metadata": {
    "colab": {
     "base_uri": "https://localhost:8080/"
    },
    "id": "2d4NcunQ0Ge1",
    "outputId": "70d48875-bb67-4375-bb49-1135193c0918"
   },
   "outputs": [
    {
     "name": "stdout",
     "output_type": "stream",
     "text": [
      "The value of f(x) is: 10.0000458\n",
      "The gradient df/dx is:  0.999954581\n"
     ]
    }
   ],
   "source": [
    "# Define our input\n",
    "x = tf.constant(10.)\n",
    "\n",
    "# Notify tf that we will be defining the forward and backward operations\n",
    "@tf.custom_gradient # The @ is called a decorator, it is similar as writing tf.custom_gradient(log1pexp) \n",
    "def log1pexp(x):\n",
    "  # Forward operation\n",
    "  e = tf.exp(x)\n",
    "  f_x = tf.math.log(1 + e)\n",
    "  \n",
    "  # Backward operation\n",
    "  def grad(upstream): \n",
    "    return upstream * (1 - 1 / (1 + e))\n",
    "  return f_x, grad\n",
    "\n",
    "# Let TF know that we are tracking the specific operation forward and backward \n",
    "with tf.GradientTape(persistent=True) as tape: # it is like a keyword assignment for this process. Alternatively we could just have written\n",
    "# it as tf.GradientTanpe.watch(x)\n",
    "  tape.watch(x)\n",
    "  # Call forward-backward function here to define the operations for y\n",
    "  f_x = log1pexp(x)\n",
    "\n",
    "# Call the operation  \n",
    "Gradient = tape.gradient(f_x, x)\n",
    "\n",
    "# Session: An object that encapsulates the environment in which Operation objects are executed, and Tensor objects are evaluated\n",
    "sess = tf.Session()\n",
    "with sess.as_default():\n",
    "\n",
    "  # Add print operation\n",
    "  sess.run(tf.print(\"The value of f(x) is:\", f_x))\n",
    "  # Add print operation\n",
    "  sess.run(tf.print(\"The gradient df/dx is: \", Gradient))"
   ]
  },
  {
   "cell_type": "markdown",
   "metadata": {
    "id": "mXDMaesfykPo"
   },
   "source": [
    "- Define the forward pass of function $f(x) = x^2+1$, and the 1st, 2nd order derivatives"
   ]
  },
  {
   "cell_type": "code",
   "execution_count": 9,
   "metadata": {
    "colab": {
     "base_uri": "https://localhost:8080/"
    },
    "id": "mG4ig8wfyeUP",
    "outputId": "3284f538-a07a-41f4-d85b-cd95b7b1e353"
   },
   "outputs": [
    {
     "name": "stdout",
     "output_type": "stream",
     "text": [
      "The value of f(x) is: 101\n",
      "The gradient df/dx is:  20\n"
     ]
    }
   ],
   "source": [
    "x = tf.constant(10.)\n",
    "\n",
    "@tf.custom_gradient\n",
    "def op(x):\n",
    "  y = x*x+1\n",
    "  @tf.custom_gradient\n",
    "  def grad_fn(dy):\n",
    "    gdy = 2*x\n",
    "    def grad_grad_fn(ddy):  # Not the 2nd order gradient of op w.r.t. x.\n",
    "      return 2\n",
    "    return gdy, grad_grad_fn\n",
    "  return y, grad_fn\n",
    "\n",
    "  # Let TF know that we are tracking the specific operation forward and backward \n",
    "with tf.GradientTape(persistent=True) as tape:\n",
    "  tape.watch(x)\n",
    "  # Call forward-backward function here to define the operations for y\n",
    "  f_x = op(x)\n",
    "\n",
    "# Call the operation  \n",
    "Gradient = tape.gradient(f_x, x)\n",
    "\n",
    "# Session: An object that encapsulates the environment in which Operation objects are executed, and Tensor objects are evaluated\n",
    "sess = tf.Session()\n",
    "with sess.as_default():\n",
    "\n",
    "  # Add print operation\n",
    "  sess.run(tf.print(\"The value of f(x) is:\", f_x))\n",
    "  # Add print operation\n",
    "  sess.run(tf.print(\"The gradient df/dx is: \", Gradient))"
   ]
  },
  {
   "cell_type": "markdown",
   "metadata": {
    "id": "X8M9E_gf3e3r"
   },
   "source": [
    "## **Assignment:**\n",
    "\n",
    "Part 2a.A:\n",
    "  - **Question**: What is the functionality of upstream? Answer it in your report.\n",
    "\n",
    "Part 2a.B: \n",
    "  - Implement the following functions and the requested tasks"
   ]
  },
  {
   "cell_type": "markdown",
   "metadata": {
    "id": "yqUso61lBwE_"
   },
   "source": [
    " **One-variable function:**\n",
    "\n",
    "$y(x) = \\frac{\\sin x}{x}$, derivative is $\\frac{dy}{dx}=$ ????\n",
    "\n",
    "1. Design the computational graph (in your report)\n",
    "2. Compute the derivative for the back propagation process by hand (include the computations in your report)\n",
    "3.  Compute the forward operation and the corresponding backward operation\n",
    "using tf.custom_gradient()"
   ]
  },
  {
   "cell_type": "code",
   "execution_count": 11,
   "metadata": {
    "colab": {
     "base_uri": "https://localhost:8080/"
    },
    "id": "7HZ6Qg_fC5zh",
    "outputId": "8fe5b9c6-5c20-4cb3-cf25-b4284b92077b"
   },
   "outputs": [
    {
     "name": "stdout",
     "output_type": "stream",
     "text": [
      "The gradient df/dx is:  -0.0784669369\n",
      "The value of y is:  -0.054402113\n"
     ]
    }
   ],
   "source": [
    "############################\n",
    "# TODO: \n",
    "# - define forward pass\n",
    "# - define gradient \n",
    "###############################\n",
    "import sys\n",
    "@tf.custom_gradient\n",
    "def sinx_underx(x):\n",
    "    ################################\n",
    "    # CODE START f(x)              #\n",
    "    ################################\n",
    "    \n",
    "    #func_fx = pass\n",
    "    func_fx = tf.sin(x)/x\n",
    "    \n",
    "    ################################\n",
    "    # CODE END                     #\n",
    "    ################################\n",
    "    def grad(upstream):\n",
    "        ################################\n",
    "        # CODE START f'(x)              #\n",
    "        ################################\n",
    "        \n",
    "        #grad_result = pass\n",
    "        grad_result = upstream *((x * tf.cos(x) - tf.sin(x) )/ (x*x))\n",
    "        \n",
    "        ################################\n",
    "        # CODE END                     #\n",
    "        ################################\n",
    "        return upstream * (grad_result)\n",
    "    return func_fx, grad\n",
    "\n",
    "# Evaluate it with x = 10\n",
    "x = tf.constant(10.)\n",
    "\n",
    "# Let TF know that we are tracking the specific operation forward and backward \n",
    "with tf.GradientTape(persistent=True) as tape:\n",
    "  tape.watch(x)\n",
    "  # Call forward-backward function here to define the operations for y\n",
    "  y = sinx_underx(x)\n",
    "\n",
    "# Call the operation  \n",
    "Gradient = tape.gradient(y, x)\n",
    "\n",
    "# Session: An object that encapsulates the environment in which Operation objects are executed, and Tensor objects are evaluated\n",
    "sess = tf.Session()\n",
    "with sess.as_default():\n",
    "    \n",
    "    ################################\n",
    "    # CODE START                  #\n",
    "    ################################\n",
    " \n",
    "    #############################################################\n",
    "    # TODO: print the value of dy/dx, expected dy/dx = -0.07846694\n",
    "    ############################################################## \n",
    "    #pass\n",
    "    sess.run(tf.print(\"The gradient df/dx is: \", Gradient))\n",
    "    #########################################################\n",
    "    # TODO: print the value of y, expected is y = -0.054402113\n",
    "    ########################################################\n",
    "    #pass\n",
    "    sess.run(tf.print(\"The value of y is: \", y))\n",
    "    ################################\n",
    "    # CODE END                     #\n",
    "    ################################"
   ]
  },
  {
   "cell_type": "markdown",
   "metadata": {
    "id": "zmL_J3R2AnPU"
   },
   "source": [
    "**Two-variable function**:\n",
    "\n",
    "$$f(x,y) = a x^2 +b xy + c y^2$$\n",
    "\n",
    "1. Design the computational graph by hand (include it in your report, also include the partial derivatives df/dx, df/dy)\n",
    "2. Compute the forward operation and the corresponding backward operation\n",
    "using tf.custom_gradient()"
   ]
  },
  {
   "cell_type": "code",
   "execution_count": 14,
   "metadata": {
    "colab": {
     "base_uri": "https://localhost:8080/"
    },
    "id": "8QWCz9gx9kve",
    "outputId": "3fb314f7-35a9-43dc-eac3-2ff9e174d95a"
   },
   "outputs": [
    {
     "name": "stdout",
     "output_type": "stream",
     "text": [
      "The gradient df/dx is:  16\n",
      "The gradient df/dy is:  26\n"
     ]
    }
   ],
   "source": [
    "@tf.custom_gradient\n",
    "def bar(x, y):\n",
    "  a = 1.0\n",
    "  b= 4.0 \n",
    "  c = 3.0\n",
    "\n",
    "  ################################\n",
    "  # CODE START f(x,y)            #\n",
    "  ################################\n",
    "  #f = pass\n",
    "  f = a * x * x + b * x * y + c * y * y\n",
    "\n",
    "  ################################\n",
    "  # CODE END                     #\n",
    "  ################################\n",
    "  \n",
    "  def grad(upstream):\n",
    "    ################################\n",
    "    # CODE START df/dx, df/dy      #\n",
    "    ################################\n",
    "    \n",
    "    #df_dx = pass\n",
    "    #df_dy = pass\n",
    "    df_dx = 2 * a * x + b * y\n",
    "    df_dy = x * b + 2 * y * c\n",
    "    \n",
    "    ################################\n",
    "    # CODE END                     #\n",
    "    ################################\n",
    "    return upstream * df_dx, upstream * df_dy\n",
    " \n",
    "  return f, grad\n",
    "\n",
    "# Evaluate on values:  \n",
    "x = tf.constant(2.0, dtype=tf.float32)\n",
    "y = tf.constant(3.0, dtype=tf.float32)\n",
    "with tf.GradientTape(persistent=True) as tape:\n",
    "  tape.watch(x)\n",
    "  tape.watch(y)\n",
    "  f = bar(x, y)\n",
    "\n",
    "# Get the gradient - expected is 16\n",
    "Gradient_x = tape.gradient(f, x)\n",
    "# Add print operation\n",
    "sess.run(tf.print(\"The gradient df/dx is: \", Gradient_x))\n",
    "\n",
    "# Get the gradient y - expected is 14\n",
    "Gradient_y = tape.gradient(f, y)\n",
    "\n",
    "# Add print operation\n",
    "sess.run(tf.print(\"The gradient df/dy is: \", Gradient_y))"
   ]
  },
  {
   "cell_type": "markdown",
   "metadata": {
    "id": "7Hkm_UlU4rX-"
   },
   "source": [
    "**Second-order derivative**:\n",
    "\n",
    "For the function $f(x) = \\log(1+e^{x})$\n",
    "0. Design the computational graph (include it in your report).\n",
    "1. Define the forward pass\n",
    "2. Define the operations that compute the 1st derivative f'(x)\n",
    "3. Define the operations that compute the 2nd derivative f''(x)\n",
    "\n",
    "Evaluate for x = 10, and print the results!"
   ]
  },
  {
   "cell_type": "code",
   "execution_count": 12,
   "metadata": {
    "id": "A6Fp4JBu5QnR"
   },
   "outputs": [
    {
     "name": "stdout",
     "output_type": "stream",
     "text": [
      "dy/dx:  0.999954641\n",
      "d^2y/dx^2 4.53546054e-05\n"
     ]
    }
   ],
   "source": [
    "################################\n",
    "# CODE START                   #\n",
    "################################\n",
    "\n",
    "# pass\n",
    "\n",
    "#references: https://docs.w3cub.com/tensorflow~1.15/gradienttape\n",
    "#            https://www.tensorflow.org/api_docs/python/tf/custom_gradient\n",
    "    \n",
    "x = tf.constant(10.0)\n",
    "with tf.GradientTape(persistent=True) as g:\n",
    "  g.watch(x)\n",
    "  with tf.GradientTape(persistent=True) as gg:\n",
    "    gg.watch(x)\n",
    "    y = tf.math.log(1 + tf.exp(x))\n",
    "  dy_dx = gg.gradient(y, x)\n",
    "d2y_dx2 = g.gradient(dy_dx, x)\n",
    "\n",
    "sess.run(tf.print(\"dy/dx: \", dy_dx))\n",
    "sess.run(tf.print(\"d^2y/dx^2\", d2y_dx2)) #printed in floating point arithmetic\n",
    "\n",
    "################################\n",
    "# CODE END                     #\n",
    "################################"
   ]
  },
  {
   "cell_type": "code",
   "execution_count": null,
   "metadata": {},
   "outputs": [],
   "source": []
  }
 ],
 "metadata": {
  "colab": {
   "name": "Assignment 2.ipynb",
   "provenance": []
  },
  "kernelspec": {
   "display_name": "Python 3 (ipykernel)",
   "language": "python",
   "name": "python3"
  },
  "language_info": {
   "codemirror_mode": {
    "name": "ipython",
    "version": 3
   },
   "file_extension": ".py",
   "mimetype": "text/x-python",
   "name": "python",
   "nbconvert_exporter": "python",
   "pygments_lexer": "ipython3",
   "version": "3.6.13"
  }
 },
 "nbformat": 4,
 "nbformat_minor": 1
}
