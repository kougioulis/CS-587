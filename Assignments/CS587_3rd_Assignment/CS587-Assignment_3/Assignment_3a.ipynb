{
 "cells": [
  {
   "cell_type": "markdown",
   "metadata": {
    "id": "K8HxVeB0s-iL"
   },
   "source": [
    "# CS - 587: Exercise 3a\n",
    "## Scope:\n",
    "The goal of this assignment is to get familiar with fine-tunning in a new dataset a Convolutional Neural Network (CNN) that has been trained in another dataset, taking advantage of transfer learning.\n",
    "\n",
    "In your assignment you will be fine-tunning AlexNet a popular CNN architecture, that has been pretrained on ImageNet dataset. Your network will be finetuned for the task of recognizing art painting categories in a large dataset of art painting images, known as Wikiart.\n",
    "\n",
    "The WikiArt dataset, which consists of 3000 images of paintings of arbitrary sizes from 10 different styles - Baroque, Realism, Expressionism, etc.\n",
    "\n"
   ]
  },
  {
   "cell_type": "code",
   "execution_count": 1,
   "metadata": {},
   "outputs": [
    {
     "name": "stdout",
     "output_type": "stream",
     "text": [
      "3.5.6 |Anaconda, Inc.| (default, Aug 26 2018, 21:41:56) \n",
      "[GCC 7.3.0] linux /home/nikolas/anaconda3/envs/cs587_hw3/bin/python\n"
     ]
    }
   ],
   "source": [
    "#Cross-check all packages and dependencies\n",
    "\n",
    "import sys\n",
    "print(sys.version, sys.platform, sys.executable)"
   ]
  },
  {
   "cell_type": "code",
   "execution_count": 2,
   "metadata": {},
   "outputs": [
    {
     "name": "stdout",
     "output_type": "stream",
     "text": [
      "Python 3.5.6 :: Anaconda, Inc.\r\n"
     ]
    }
   ],
   "source": [
    "!python --version"
   ]
  },
  {
   "cell_type": "code",
   "execution_count": 3,
   "metadata": {},
   "outputs": [
    {
     "name": "stdout",
     "output_type": "stream",
     "text": [
      "['/home/nikolas/anaconda3/envs/cs587_hw3/lib/python3.5/site-packages/numpy']\n",
      "1.16.5\n"
     ]
    }
   ],
   "source": [
    "import numpy\n",
    "print(numpy.__path__)\n",
    "print(numpy.__version__)"
   ]
  },
  {
   "cell_type": "code",
   "execution_count": 4,
   "metadata": {},
   "outputs": [
    {
     "name": "stdout",
     "output_type": "stream",
     "text": [
      "1.15.0\n"
     ]
    }
   ],
   "source": [
    "import tensorflow as tf\n",
    "print(tf.__version__)"
   ]
  },
  {
   "cell_type": "code",
   "execution_count": 5,
   "metadata": {
    "id": "a9ME9mTCs-iQ"
   },
   "outputs": [
    {
     "name": "stdout",
     "output_type": "stream",
     "text": [
      "GOOD TO GO! Weights already downloaded and stored!\n",
      "Training dirname: /home/nikolas/Downloads/CS-587/Assignments/CS587_3rd_Assignment/CS587-Assignment_3/Utilities/data/train.txt\n"
     ]
    }
   ],
   "source": [
    "import os\n",
    "os.environ['TF_CPP_MIN_VLOG_LEVEL']='3'\n",
    "import tensorflow as tf\n",
    "\n",
    "import numpy as np\n",
    "from models.AlexNet import AlexNet\n",
    "from Utilities.datagenerator import ImageDataGenerator\n",
    "\n",
    "from datetime import datetime\n",
    "from tqdm import tqdm\n",
    "import urllib\n",
    "\n",
    "\"\"\"\n",
    "Configuration settings\n",
    "\"\"\"\n",
    "weight_path= os.path.join('weights','bvlc_alexnet.npy')\n",
    "general_path_weights = os.path.join('weights')\n",
    "\n",
    "#os.environ['TF_CPP_MIN_LOG_LEVEL'] = '2' \n",
    "\n",
    "# Create parent path if it doesn't exist\n",
    "if not os.path.isdir(general_path_weights): \n",
    "    os.mkdir(general_path_weights)\n",
    "    \n",
    "if os.path.isfile(weight_path) == False:\n",
    "    print('Went it to download weights for AlexNet')\n",
    "    print('Relax...')\n",
    "    weight_file = urllib.request.urlretrieve('http://www.cs.toronto.edu/~guerzhoy/tf_alexnet/bvlc_alexnet.npy',os.path.join('weights/bvlc_alexnet.npy'))\n",
    "    print('Done with weights')\n",
    "else:\n",
    "    print('GOOD TO GO! Weights already downloaded and stored!')\n",
    "    \n",
    "\n",
    "tf.logging.set_verbosity(tf.logging.ERROR)\n",
    "\n",
    "# Path to the textfiles for the trainings and validation set\n",
    "#training_dirname = os.path.join('data','wikiart', 'train.txt')\n",
    "training_dirname = os.path.join('/home','nikolas','Downloads','CS-587','Assignments','CS587_3rd_Assignment','CS587-Assignment_3','Utilities','data','train.txt')\n",
    "print(\"Training dirname:\", training_dirname)\n",
    "\n",
    "#val_dirname = os.path.join('data','wikiart', 'test.txt')\n",
    "val_dirname = os.path.join('/home','nikolas','Downloads','CS-587','Assignments','CS587_3rd_Assignment','CS587-Assignment_3','Utilities','data','test.txt')\n",
    "\n",
    "# Path for tf.summary.FileWriter and to store model checkpoints\n",
    "general_path = os.path.join('finetune_alexnet')\n",
    "filewriter_path = os.path.join('finetune_alexnet','wikiart')\n",
    "checkpoint_path = os.path.join('finetune_alexnet','CheckPoint')\n",
    "\n",
    "# Create parent path if it doesn't exist\n",
    "if not os.path.isdir(general_path): \n",
    "    os.mkdir(general_path)\n",
    "# Create parent path if it doesn't exist\n",
    "if not os.path.isdir(filewriter_path): os.mkdir(filewriter_path)\n",
    "# Create parent path if it doesn't exist\n",
    "if not os.path.isdir(checkpoint_path): os.mkdir(checkpoint_path)"
   ]
  },
  {
   "cell_type": "code",
   "execution_count": 6,
   "metadata": {
    "id": "1g-EkvLKs-iS"
   },
   "outputs": [],
   "source": [
    "# Learning params\n",
    "learning_rate = 0.01\n",
    "num_epochs = 10\n",
    "batch_size = 128\n",
    "\n",
    "# Network params\n",
    "dropout_rate = 0.5\n",
    "num_classes = 10\n",
    "\n",
    "#---------------LOOK AT ME----------------------------------------------------\n",
    "\n",
    "#0.40625\n",
    "train_layers = ['fc7','fc8'] # Change me if you want to try stuff\n",
    "\n",
    "#0.39062\n",
    "#train_layers = ['fc8'] # Change me if you want to try stuff\n",
    "\n",
    "#------------------------------------------------------------------------------\n",
    "\n",
    "# How often we want to write the tf.summary data to disk\n",
    "#display_step = 1\n",
    "display_step = 3"
   ]
  },
  {
   "cell_type": "code",
   "execution_count": 7,
   "metadata": {},
   "outputs": [],
   "source": [
    "tf.reset_default_graph() "
   ]
  },
  {
   "cell_type": "markdown",
   "metadata": {
    "id": "9WLLY_qNs-iS"
   },
   "source": [
    "# Pretrained Model\n",
    "For all of our image generation experiments, we will start with a convolutional neural network which was pretrained to perform image classification on ImageNet. We can use any model here, but for the purposes of this assignment we will use AlexNet"
   ]
  },
  {
   "cell_type": "code",
   "execution_count": 8,
   "metadata": {
    "id": "K5R4qdLks-iT",
    "scrolled": true
   },
   "outputs": [],
   "source": [
    "# TF placeholder for graph input and output\n",
    "x = tf.placeholder(tf.float32, [batch_size, 227, 227, 3])\n",
    "y = tf.placeholder(tf.float32, [None, num_classes])\n",
    "keep_prob = tf.placeholder(tf.float32)\n",
    "\n",
    "# Initialize model\n",
    "model = AlexNet(x, keep_prob, num_classes, train_layers)\n",
    "\n",
    "# List of trainable variables of the layers we want to train\n",
    "var_list = [v for v in tf.trainable_variables() if v.name.split('/')[0] in train_layers]\n",
    "\n",
    "# Link variable to model output\n",
    "score = model.fc8\n",
    "\n",
    "##################################################################################################\n",
    "# TODO: Implement the (a) loss function (Soft-max Cross Entropy), (b) the optimization           #\n",
    "# process using S Gradient Descent, (c) accuracy (using argmax). Create summaries in tensorboard #\n",
    "# for the loss, the gradients of trainable variables (histogram form) and the accuracy.          #\n",
    "#                                                                                                # \n",
    "# Hint: in order to take the gradients per variable use tf.gradients(,)                          #\n",
    "##################################################################################################    \n",
    " \n",
    "#pass\n",
    "\n",
    "#part (a)\n",
    "loss = tf.reduce_mean(tf.nn.softmax_cross_entropy_with_logits(logits=score, labels=y))\n",
    "\n",
    "#part (b)\n",
    "optimizer = tf.train.GradientDescentOptimizer(learning_rate = learning_rate).minimize(loss, var_list=var_list)\n",
    "  \n",
    "#part (c)\n",
    "true_pred = tf.equal(tf.argmax(score, 1), tf.argmax(y, 1))\n",
    "accuracy = tf.reduce_mean(tf.cast(true_pred, tf.float32))\n",
    "\n",
    "#creation of TF summaries\n",
    "tf.summary.scalar(\"Loss\", loss)\n",
    "tf.summary.scalar(\"Accuracy\", accuracy)\n",
    "\n",
    "#gradients histogram\n",
    "for variable in var_list:\n",
    "    tf.summary.histogram(variable.name + '/gradients', tf.gradients(loss, variable))\n",
    "\n",
    "##############################################################################\n",
    "#                             END OF YOUR CODE                               #\n",
    "##############################################################################\n",
    "\n",
    "# Merge all summaries together\n",
    "merged_summary = tf.summary.merge_all()\n",
    "\n",
    "# Initialize the FileWriter\n",
    "writer = tf.summary.FileWriter(filewriter_path)\n",
    "\n",
    "# Initialize an saver for store model checkpoints\n",
    "saver = tf.train.Saver()\n",
    "\n",
    "# Initalize the data generator seperately for the training and validation set\n",
    "train_generator = ImageDataGenerator(training_dirname, \n",
    "                                     horizontal_flip = True, shuffle = True)\n",
    "val_generator = ImageDataGenerator(val_dirname, shuffle = False) \n",
    "\n",
    "# Get the number of training/validation steps per epoch\n",
    "train_batches_per_epoch = np.floor(train_generator.data_size / batch_size).astype(np.int16)\n",
    "val_batches_per_epoch = np.floor(val_generator.data_size / batch_size).astype(np.int16)\n",
    "\n",
    "#print(train_batches_per_epoch)"
   ]
  },
  {
   "cell_type": "code",
   "execution_count": 9,
   "metadata": {
    "id": "MtS2I6kCs-iU",
    "scrolled": true
   },
   "outputs": [
    {
     "name": "stdout",
     "output_type": "stream",
     "text": [
      "2023-05-26 17:03:38.911709 Start training...\n",
      "2023-05-26 17:03:38.911797 Open Tensorboard at --logdir finetune_alexnet/wikiart\n",
      "2023-05-26 17:03:38.911814 Epoch number: 1\n"
     ]
    },
    {
     "name": "stderr",
     "output_type": "stream",
     "text": [
      "AlexNet Training:   4%|▍         | 1/25 [00:05<02:18,  5.78s/it]"
     ]
    },
    {
     "name": "stdout",
     "output_type": "stream",
     "text": [
      "Iteration 0, Mini-batch Loss= 10.78775, Training Accuracy= 0.25000\n"
     ]
    },
    {
     "name": "stderr",
     "output_type": "stream",
     "text": [
      "\r",
      "AlexNet Training:   8%|▊         | 2/25 [00:09<01:49,  4.74s/it]"
     ]
    },
    {
     "name": "stdout",
     "output_type": "stream",
     "text": [
      "Iteration 128, Mini-batch Loss= 10.66772, Training Accuracy= 0.26562\n"
     ]
    },
    {
     "name": "stderr",
     "output_type": "stream",
     "text": [
      "\r",
      "AlexNet Training:  12%|█▏        | 3/25 [00:14<01:39,  4.51s/it]"
     ]
    },
    {
     "name": "stdout",
     "output_type": "stream",
     "text": [
      "Iteration 256, Mini-batch Loss= 14.81372, Training Accuracy= 0.21875\n"
     ]
    },
    {
     "name": "stderr",
     "output_type": "stream",
     "text": [
      "\r",
      "AlexNet Training:  16%|█▌        | 4/25 [00:20<01:46,  5.09s/it]"
     ]
    },
    {
     "name": "stdout",
     "output_type": "stream",
     "text": [
      "Iteration 384, Mini-batch Loss= 13.03746, Training Accuracy= 0.37500\n"
     ]
    },
    {
     "name": "stderr",
     "output_type": "stream",
     "text": [
      "\r",
      "AlexNet Training:  20%|██        | 5/25 [00:24<01:35,  4.76s/it]"
     ]
    },
    {
     "name": "stdout",
     "output_type": "stream",
     "text": [
      "Iteration 512, Mini-batch Loss= 15.67793, Training Accuracy= 0.14844\n"
     ]
    },
    {
     "name": "stderr",
     "output_type": "stream",
     "text": [
      "\r",
      "AlexNet Training:  24%|██▍       | 6/25 [00:28<01:25,  4.53s/it]"
     ]
    },
    {
     "name": "stdout",
     "output_type": "stream",
     "text": [
      "Iteration 640, Mini-batch Loss= 19.15062, Training Accuracy= 0.17969\n"
     ]
    },
    {
     "name": "stderr",
     "output_type": "stream",
     "text": [
      "\r",
      "AlexNet Training:  28%|██▊       | 7/25 [00:33<01:25,  4.73s/it]"
     ]
    },
    {
     "name": "stdout",
     "output_type": "stream",
     "text": [
      "Iteration 768, Mini-batch Loss= 21.54620, Training Accuracy= 0.22656\n"
     ]
    },
    {
     "name": "stderr",
     "output_type": "stream",
     "text": [
      "\r",
      "AlexNet Training:  32%|███▏      | 8/25 [00:37<01:16,  4.52s/it]"
     ]
    },
    {
     "name": "stdout",
     "output_type": "stream",
     "text": [
      "Iteration 896, Mini-batch Loss= 18.09939, Training Accuracy= 0.21875\n"
     ]
    },
    {
     "name": "stderr",
     "output_type": "stream",
     "text": [
      "\r",
      "AlexNet Training:  36%|███▌      | 9/25 [00:41<01:08,  4.28s/it]"
     ]
    },
    {
     "name": "stdout",
     "output_type": "stream",
     "text": [
      "Iteration 1024, Mini-batch Loss= 12.39676, Training Accuracy= 0.28906\n"
     ]
    },
    {
     "name": "stderr",
     "output_type": "stream",
     "text": [
      "\r",
      "AlexNet Training:  40%|████      | 10/25 [00:46<01:07,  4.50s/it]"
     ]
    },
    {
     "name": "stdout",
     "output_type": "stream",
     "text": [
      "Iteration 1152, Mini-batch Loss= 10.65881, Training Accuracy= 0.24219\n"
     ]
    },
    {
     "name": "stderr",
     "output_type": "stream",
     "text": [
      "\r",
      "AlexNet Training:  44%|████▍     | 11/25 [00:50<01:02,  4.50s/it]"
     ]
    },
    {
     "name": "stdout",
     "output_type": "stream",
     "text": [
      "Iteration 1280, Mini-batch Loss= 7.68741, Training Accuracy= 0.32031\n"
     ]
    },
    {
     "name": "stderr",
     "output_type": "stream",
     "text": [
      "\r",
      "AlexNet Training:  48%|████▊     | 12/25 [00:54<00:56,  4.32s/it]"
     ]
    },
    {
     "name": "stdout",
     "output_type": "stream",
     "text": [
      "Iteration 1408, Mini-batch Loss= 7.30907, Training Accuracy= 0.23438\n"
     ]
    },
    {
     "name": "stderr",
     "output_type": "stream",
     "text": [
      "\r",
      "AlexNet Training:  52%|█████▏    | 13/25 [01:00<00:56,  4.69s/it]"
     ]
    },
    {
     "name": "stdout",
     "output_type": "stream",
     "text": [
      "Iteration 1536, Mini-batch Loss= 4.69044, Training Accuracy= 0.42188\n"
     ]
    },
    {
     "name": "stderr",
     "output_type": "stream",
     "text": [
      "\r",
      "AlexNet Training:  56%|█████▌    | 14/25 [01:04<00:51,  4.68s/it]"
     ]
    },
    {
     "name": "stdout",
     "output_type": "stream",
     "text": [
      "Iteration 1664, Mini-batch Loss= 4.95071, Training Accuracy= 0.34375\n"
     ]
    },
    {
     "name": "stderr",
     "output_type": "stream",
     "text": [
      "\r",
      "AlexNet Training:  60%|██████    | 15/25 [01:08<00:44,  4.48s/it]"
     ]
    },
    {
     "name": "stdout",
     "output_type": "stream",
     "text": [
      "Iteration 1792, Mini-batch Loss= 3.94048, Training Accuracy= 0.39844\n"
     ]
    },
    {
     "name": "stderr",
     "output_type": "stream",
     "text": [
      "\r",
      "AlexNet Training:  64%|██████▍   | 16/25 [01:14<00:42,  4.69s/it]"
     ]
    },
    {
     "name": "stdout",
     "output_type": "stream",
     "text": [
      "Iteration 1920, Mini-batch Loss= 3.13807, Training Accuracy= 0.34375\n"
     ]
    },
    {
     "name": "stderr",
     "output_type": "stream",
     "text": [
      "\r",
      "AlexNet Training:  68%|██████▊   | 17/25 [01:18<00:36,  4.50s/it]"
     ]
    },
    {
     "name": "stdout",
     "output_type": "stream",
     "text": [
      "Iteration 2048, Mini-batch Loss= 2.51187, Training Accuracy= 0.43750\n"
     ]
    },
    {
     "name": "stderr",
     "output_type": "stream",
     "text": [
      "\r",
      "AlexNet Training:  72%|███████▏  | 18/25 [01:22<00:30,  4.34s/it]"
     ]
    },
    {
     "name": "stdout",
     "output_type": "stream",
     "text": [
      "Iteration 2176, Mini-batch Loss= 2.65465, Training Accuracy= 0.42969\n"
     ]
    },
    {
     "name": "stderr",
     "output_type": "stream",
     "text": [
      "\r",
      "AlexNet Training:  76%|███████▌  | 19/25 [01:27<00:28,  4.82s/it]"
     ]
    },
    {
     "name": "stdout",
     "output_type": "stream",
     "text": [
      "Iteration 2304, Mini-batch Loss= 3.34214, Training Accuracy= 0.46094\n"
     ]
    },
    {
     "name": "stderr",
     "output_type": "stream",
     "text": [
      "\r",
      "AlexNet Training:  80%|████████  | 20/25 [01:32<00:23,  4.75s/it]"
     ]
    },
    {
     "name": "stdout",
     "output_type": "stream",
     "text": [
      "Iteration 2432, Mini-batch Loss= 4.00912, Training Accuracy= 0.31250\n"
     ]
    },
    {
     "name": "stderr",
     "output_type": "stream",
     "text": [
      "\r",
      "AlexNet Training:  84%|████████▍ | 21/25 [01:36<00:17,  4.48s/it]"
     ]
    },
    {
     "name": "stdout",
     "output_type": "stream",
     "text": [
      "Iteration 2560, Mini-batch Loss= 2.73951, Training Accuracy= 0.42188\n"
     ]
    },
    {
     "name": "stderr",
     "output_type": "stream",
     "text": [
      "\r",
      "AlexNet Training:  88%|████████▊ | 22/25 [01:41<00:14,  4.69s/it]"
     ]
    },
    {
     "name": "stdout",
     "output_type": "stream",
     "text": [
      "Iteration 2688, Mini-batch Loss= 2.85516, Training Accuracy= 0.36719\n"
     ]
    },
    {
     "name": "stderr",
     "output_type": "stream",
     "text": [
      "\r",
      "AlexNet Training:  92%|█████████▏| 23/25 [01:45<00:08,  4.49s/it]"
     ]
    },
    {
     "name": "stdout",
     "output_type": "stream",
     "text": [
      "Iteration 2816, Mini-batch Loss= 2.21802, Training Accuracy= 0.48438\n"
     ]
    },
    {
     "name": "stderr",
     "output_type": "stream",
     "text": [
      "\r",
      "AlexNet Training:  96%|█████████▌| 24/25 [01:49<00:04,  4.41s/it]"
     ]
    },
    {
     "name": "stdout",
     "output_type": "stream",
     "text": [
      "Iteration 2944, Mini-batch Loss= 2.61847, Training Accuracy= 0.45312\n"
     ]
    },
    {
     "name": "stderr",
     "output_type": "stream",
     "text": [
      "AlexNet Training: 100%|██████████| 25/25 [01:55<00:00,  4.60s/it]"
     ]
    },
    {
     "name": "stdout",
     "output_type": "stream",
     "text": [
      "Iteration 3072, Mini-batch Loss= 1.89469, Training Accuracy= 0.45312\n",
      "Starting validation...\n"
     ]
    },
    {
     "name": "stderr",
     "output_type": "stream",
     "text": [
      "\n"
     ]
    },
    {
     "name": "stdout",
     "output_type": "stream",
     "text": [
      "Validation Accuracy = 0.34375\n",
      "2023-05-26 17:05:52.539420 Saving checkpoint of model...\n",
      "2023-05-26 17:05:53.937365 Model checkpoint saved at finetune_alexnet/CheckPoint/model_epoch1.ckpt\n",
      "2023-05-26 17:05:53.937493 Epoch number: 2\n"
     ]
    },
    {
     "name": "stderr",
     "output_type": "stream",
     "text": [
      "AlexNet Training:   4%|▍         | 1/25 [00:06<02:25,  6.07s/it]"
     ]
    },
    {
     "name": "stdout",
     "output_type": "stream",
     "text": [
      "Iteration 0, Mini-batch Loss= 1.86087, Training Accuracy= 0.52344\n"
     ]
    },
    {
     "name": "stderr",
     "output_type": "stream",
     "text": [
      "\r",
      "AlexNet Training:   8%|▊         | 2/25 [00:09<01:47,  4.69s/it]"
     ]
    },
    {
     "name": "stdout",
     "output_type": "stream",
     "text": [
      "Iteration 128, Mini-batch Loss= 1.67057, Training Accuracy= 0.54688\n"
     ]
    },
    {
     "name": "stderr",
     "output_type": "stream",
     "text": [
      "\r",
      "AlexNet Training:  12%|█▏        | 3/25 [00:14<01:40,  4.59s/it]"
     ]
    },
    {
     "name": "stdout",
     "output_type": "stream",
     "text": [
      "Iteration 256, Mini-batch Loss= 1.56730, Training Accuracy= 0.58594\n"
     ]
    },
    {
     "name": "stderr",
     "output_type": "stream",
     "text": [
      "\r",
      "AlexNet Training:  16%|█▌        | 4/25 [00:20<01:46,  5.05s/it]"
     ]
    },
    {
     "name": "stdout",
     "output_type": "stream",
     "text": [
      "Iteration 384, Mini-batch Loss= 1.44848, Training Accuracy= 0.58594\n"
     ]
    },
    {
     "name": "stderr",
     "output_type": "stream",
     "text": [
      "\r",
      "AlexNet Training:  20%|██        | 5/25 [00:24<01:33,  4.69s/it]"
     ]
    },
    {
     "name": "stdout",
     "output_type": "stream",
     "text": [
      "Iteration 512, Mini-batch Loss= 1.69047, Training Accuracy= 0.52344\n"
     ]
    },
    {
     "name": "stderr",
     "output_type": "stream",
     "text": [
      "\r",
      "AlexNet Training:  24%|██▍       | 6/25 [00:29<01:30,  4.78s/it]"
     ]
    },
    {
     "name": "stdout",
     "output_type": "stream",
     "text": [
      "Iteration 640, Mini-batch Loss= 1.61705, Training Accuracy= 0.56250\n"
     ]
    },
    {
     "name": "stderr",
     "output_type": "stream",
     "text": [
      "\r",
      "AlexNet Training:  28%|██▊       | 7/25 [00:34<01:29,  4.99s/it]"
     ]
    },
    {
     "name": "stdout",
     "output_type": "stream",
     "text": [
      "Iteration 768, Mini-batch Loss= 1.79067, Training Accuracy= 0.57031\n"
     ]
    },
    {
     "name": "stderr",
     "output_type": "stream",
     "text": [
      "\r",
      "AlexNet Training:  32%|███▏      | 8/25 [00:37<01:16,  4.47s/it]"
     ]
    },
    {
     "name": "stdout",
     "output_type": "stream",
     "text": [
      "Iteration 896, Mini-batch Loss= 1.33226, Training Accuracy= 0.57812\n"
     ]
    },
    {
     "name": "stderr",
     "output_type": "stream",
     "text": [
      "\r",
      "AlexNet Training:  36%|███▌      | 9/25 [00:41<01:07,  4.21s/it]"
     ]
    },
    {
     "name": "stdout",
     "output_type": "stream",
     "text": [
      "Iteration 1024, Mini-batch Loss= 1.59091, Training Accuracy= 0.55469\n"
     ]
    },
    {
     "name": "stderr",
     "output_type": "stream",
     "text": [
      "\r",
      "AlexNet Training:  40%|████      | 10/25 [00:46<01:07,  4.48s/it]"
     ]
    },
    {
     "name": "stdout",
     "output_type": "stream",
     "text": [
      "Iteration 1152, Mini-batch Loss= 2.08151, Training Accuracy= 0.50000\n"
     ]
    },
    {
     "name": "stderr",
     "output_type": "stream",
     "text": [
      "\r",
      "AlexNet Training:  44%|████▍     | 11/25 [00:50<01:01,  4.40s/it]"
     ]
    },
    {
     "name": "stdout",
     "output_type": "stream",
     "text": [
      "Iteration 1280, Mini-batch Loss= 1.76894, Training Accuracy= 0.53906\n"
     ]
    },
    {
     "name": "stderr",
     "output_type": "stream",
     "text": [
      "\r",
      "AlexNet Training:  48%|████▊     | 12/25 [00:54<00:56,  4.32s/it]"
     ]
    },
    {
     "name": "stdout",
     "output_type": "stream",
     "text": [
      "Iteration 1408, Mini-batch Loss= 1.80933, Training Accuracy= 0.53125\n"
     ]
    },
    {
     "name": "stderr",
     "output_type": "stream",
     "text": [
      "\r",
      "AlexNet Training:  52%|█████▏    | 13/25 [00:59<00:53,  4.47s/it]"
     ]
    },
    {
     "name": "stdout",
     "output_type": "stream",
     "text": [
      "Iteration 1536, Mini-batch Loss= 1.26840, Training Accuracy= 0.64844\n"
     ]
    },
    {
     "name": "stderr",
     "output_type": "stream",
     "text": [
      "\r",
      "AlexNet Training:  56%|█████▌    | 14/25 [01:03<00:47,  4.33s/it]"
     ]
    },
    {
     "name": "stdout",
     "output_type": "stream",
     "text": [
      "Iteration 1664, Mini-batch Loss= 1.26476, Training Accuracy= 0.64844\n"
     ]
    },
    {
     "name": "stderr",
     "output_type": "stream",
     "text": [
      "\r",
      "AlexNet Training:  60%|██████    | 15/25 [01:07<00:41,  4.17s/it]"
     ]
    },
    {
     "name": "stdout",
     "output_type": "stream",
     "text": [
      "Iteration 1792, Mini-batch Loss= 1.95691, Training Accuracy= 0.53125\n"
     ]
    },
    {
     "name": "stderr",
     "output_type": "stream",
     "text": [
      "\r",
      "AlexNet Training:  64%|██████▍   | 16/25 [01:13<00:41,  4.58s/it]"
     ]
    },
    {
     "name": "stdout",
     "output_type": "stream",
     "text": [
      "Iteration 1920, Mini-batch Loss= 1.93437, Training Accuracy= 0.52344\n"
     ]
    },
    {
     "name": "stderr",
     "output_type": "stream",
     "text": [
      "\r",
      "AlexNet Training:  68%|██████▊   | 17/25 [01:17<00:36,  4.61s/it]"
     ]
    },
    {
     "name": "stdout",
     "output_type": "stream",
     "text": [
      "Iteration 2048, Mini-batch Loss= 1.28244, Training Accuracy= 0.59375\n"
     ]
    },
    {
     "name": "stderr",
     "output_type": "stream",
     "text": [
      "\r",
      "AlexNet Training:  72%|███████▏  | 18/25 [01:22<00:32,  4.61s/it]"
     ]
    },
    {
     "name": "stdout",
     "output_type": "stream",
     "text": [
      "Iteration 2176, Mini-batch Loss= 1.33023, Training Accuracy= 0.58594\n"
     ]
    },
    {
     "name": "stderr",
     "output_type": "stream",
     "text": [
      "\r",
      "AlexNet Training:  76%|███████▌  | 19/25 [01:28<00:30,  5.09s/it]"
     ]
    },
    {
     "name": "stdout",
     "output_type": "stream",
     "text": [
      "Iteration 2304, Mini-batch Loss= 1.29055, Training Accuracy= 0.59375\n"
     ]
    },
    {
     "name": "stderr",
     "output_type": "stream",
     "text": [
      "\r",
      "AlexNet Training:  80%|████████  | 20/25 [01:32<00:24,  4.85s/it]"
     ]
    },
    {
     "name": "stdout",
     "output_type": "stream",
     "text": [
      "Iteration 2432, Mini-batch Loss= 1.64417, Training Accuracy= 0.48438\n"
     ]
    },
    {
     "name": "stderr",
     "output_type": "stream",
     "text": [
      "\r",
      "AlexNet Training:  84%|████████▍ | 21/25 [01:37<00:19,  4.92s/it]"
     ]
    },
    {
     "name": "stdout",
     "output_type": "stream",
     "text": [
      "Iteration 2560, Mini-batch Loss= 1.06343, Training Accuracy= 0.65625\n"
     ]
    },
    {
     "name": "stderr",
     "output_type": "stream",
     "text": [
      "\r",
      "AlexNet Training:  88%|████████▊ | 22/25 [01:43<00:15,  5.22s/it]"
     ]
    },
    {
     "name": "stdout",
     "output_type": "stream",
     "text": [
      "Iteration 2688, Mini-batch Loss= 1.34569, Training Accuracy= 0.60938\n"
     ]
    },
    {
     "name": "stderr",
     "output_type": "stream",
     "text": [
      "\r",
      "AlexNet Training:  92%|█████████▏| 23/25 [01:48<00:10,  5.00s/it]"
     ]
    },
    {
     "name": "stdout",
     "output_type": "stream",
     "text": [
      "Iteration 2816, Mini-batch Loss= 1.20879, Training Accuracy= 0.66406\n"
     ]
    },
    {
     "name": "stderr",
     "output_type": "stream",
     "text": [
      "\r",
      "AlexNet Training:  96%|█████████▌| 24/25 [01:52<00:04,  4.77s/it]"
     ]
    },
    {
     "name": "stdout",
     "output_type": "stream",
     "text": [
      "Iteration 2944, Mini-batch Loss= 1.25919, Training Accuracy= 0.57812\n"
     ]
    },
    {
     "name": "stderr",
     "output_type": "stream",
     "text": [
      "AlexNet Training: 100%|██████████| 25/25 [01:57<00:00,  4.72s/it]"
     ]
    },
    {
     "name": "stdout",
     "output_type": "stream",
     "text": [
      "Iteration 3072, Mini-batch Loss= 1.26301, Training Accuracy= 0.60938\n",
      "Starting validation...\n"
     ]
    },
    {
     "name": "stderr",
     "output_type": "stream",
     "text": [
      "\n"
     ]
    },
    {
     "name": "stdout",
     "output_type": "stream",
     "text": [
      "Validation Accuracy = 0.36719\n",
      "2023-05-26 17:08:10.731511 Saving checkpoint of model...\n",
      "2023-05-26 17:08:11.918718 Model checkpoint saved at finetune_alexnet/CheckPoint/model_epoch2.ckpt\n",
      "2023-05-26 17:08:11.918813 Epoch number: 3\n"
     ]
    },
    {
     "name": "stderr",
     "output_type": "stream",
     "text": [
      "AlexNet Training:   4%|▍         | 1/25 [00:05<02:21,  5.89s/it]"
     ]
    },
    {
     "name": "stdout",
     "output_type": "stream",
     "text": [
      "Iteration 0, Mini-batch Loss= 0.74058, Training Accuracy= 0.78125\n"
     ]
    },
    {
     "name": "stderr",
     "output_type": "stream",
     "text": [
      "\r",
      "AlexNet Training:   8%|▊         | 2/25 [00:09<01:50,  4.81s/it]"
     ]
    },
    {
     "name": "stdout",
     "output_type": "stream",
     "text": [
      "Iteration 128, Mini-batch Loss= 1.06890, Training Accuracy= 0.66406\n"
     ]
    },
    {
     "name": "stderr",
     "output_type": "stream",
     "text": [
      "\r",
      "AlexNet Training:  12%|█▏        | 3/25 [00:14<01:41,  4.60s/it]"
     ]
    },
    {
     "name": "stdout",
     "output_type": "stream",
     "text": [
      "Iteration 256, Mini-batch Loss= 1.11735, Training Accuracy= 0.67188\n"
     ]
    },
    {
     "name": "stderr",
     "output_type": "stream",
     "text": [
      "\r",
      "AlexNet Training:  16%|█▌        | 4/25 [00:19<01:43,  4.93s/it]"
     ]
    },
    {
     "name": "stdout",
     "output_type": "stream",
     "text": [
      "Iteration 384, Mini-batch Loss= 1.43323, Training Accuracy= 0.58594\n"
     ]
    },
    {
     "name": "stderr",
     "output_type": "stream",
     "text": [
      "\r",
      "AlexNet Training:  20%|██        | 5/25 [00:23<01:28,  4.42s/it]"
     ]
    },
    {
     "name": "stdout",
     "output_type": "stream",
     "text": [
      "Iteration 512, Mini-batch Loss= 1.22077, Training Accuracy= 0.61719\n"
     ]
    },
    {
     "name": "stderr",
     "output_type": "stream",
     "text": [
      "\r",
      "AlexNet Training:  24%|██▍       | 6/25 [00:27<01:20,  4.21s/it]"
     ]
    },
    {
     "name": "stdout",
     "output_type": "stream",
     "text": [
      "Iteration 640, Mini-batch Loss= 0.70841, Training Accuracy= 0.78125\n"
     ]
    },
    {
     "name": "stderr",
     "output_type": "stream",
     "text": [
      "\r",
      "AlexNet Training:  28%|██▊       | 7/25 [00:32<01:20,  4.49s/it]"
     ]
    },
    {
     "name": "stdout",
     "output_type": "stream",
     "text": [
      "Iteration 768, Mini-batch Loss= 0.81648, Training Accuracy= 0.71094\n"
     ]
    },
    {
     "name": "stderr",
     "output_type": "stream",
     "text": [
      "\r",
      "AlexNet Training:  32%|███▏      | 8/25 [00:36<01:18,  4.60s/it]"
     ]
    },
    {
     "name": "stdout",
     "output_type": "stream",
     "text": [
      "Iteration 896, Mini-batch Loss= 1.25424, Training Accuracy= 0.57812\n"
     ]
    },
    {
     "name": "stderr",
     "output_type": "stream",
     "text": [
      "\r",
      "AlexNet Training:  36%|███▌      | 9/25 [00:41<01:11,  4.48s/it]"
     ]
    },
    {
     "name": "stdout",
     "output_type": "stream",
     "text": [
      "Iteration 1024, Mini-batch Loss= 0.82091, Training Accuracy= 0.73438\n"
     ]
    },
    {
     "name": "stderr",
     "output_type": "stream",
     "text": [
      "\r",
      "AlexNet Training:  40%|████      | 10/25 [00:46<01:11,  4.77s/it]"
     ]
    },
    {
     "name": "stdout",
     "output_type": "stream",
     "text": [
      "Iteration 1152, Mini-batch Loss= 0.96984, Training Accuracy= 0.66406\n"
     ]
    },
    {
     "name": "stderr",
     "output_type": "stream",
     "text": [
      "\r",
      "AlexNet Training:  44%|████▍     | 11/25 [00:50<01:02,  4.46s/it]"
     ]
    },
    {
     "name": "stdout",
     "output_type": "stream",
     "text": [
      "Iteration 1280, Mini-batch Loss= 0.98975, Training Accuracy= 0.67969\n"
     ]
    },
    {
     "name": "stderr",
     "output_type": "stream",
     "text": [
      "\r",
      "AlexNet Training:  48%|████▊     | 12/25 [00:54<00:55,  4.31s/it]"
     ]
    },
    {
     "name": "stdout",
     "output_type": "stream",
     "text": [
      "Iteration 1408, Mini-batch Loss= 0.93663, Training Accuracy= 0.64844\n"
     ]
    },
    {
     "name": "stderr",
     "output_type": "stream",
     "text": [
      "\r",
      "AlexNet Training:  52%|█████▏    | 13/25 [01:00<00:58,  4.84s/it]"
     ]
    },
    {
     "name": "stdout",
     "output_type": "stream",
     "text": [
      "Iteration 1536, Mini-batch Loss= 0.86237, Training Accuracy= 0.69531\n"
     ]
    },
    {
     "name": "stderr",
     "output_type": "stream",
     "text": [
      "\r",
      "AlexNet Training:  56%|█████▌    | 14/25 [01:04<00:51,  4.66s/it]"
     ]
    },
    {
     "name": "stdout",
     "output_type": "stream",
     "text": [
      "Iteration 1664, Mini-batch Loss= 0.79959, Training Accuracy= 0.71094\n"
     ]
    },
    {
     "name": "stderr",
     "output_type": "stream",
     "text": [
      "\r",
      "AlexNet Training:  60%|██████    | 15/25 [01:09<00:48,  4.82s/it]"
     ]
    },
    {
     "name": "stdout",
     "output_type": "stream",
     "text": [
      "Iteration 1792, Mini-batch Loss= 0.82348, Training Accuracy= 0.68750\n"
     ]
    },
    {
     "name": "stderr",
     "output_type": "stream",
     "text": [
      "\r",
      "AlexNet Training:  64%|██████▍   | 16/25 [01:15<00:45,  5.11s/it]"
     ]
    },
    {
     "name": "stdout",
     "output_type": "stream",
     "text": [
      "Iteration 1920, Mini-batch Loss= 1.07014, Training Accuracy= 0.67969\n"
     ]
    },
    {
     "name": "stderr",
     "output_type": "stream",
     "text": [
      "\r",
      "AlexNet Training:  68%|██████▊   | 17/25 [01:19<00:38,  4.82s/it]"
     ]
    },
    {
     "name": "stdout",
     "output_type": "stream",
     "text": [
      "Iteration 2048, Mini-batch Loss= 1.12777, Training Accuracy= 0.62500\n"
     ]
    },
    {
     "name": "stderr",
     "output_type": "stream",
     "text": [
      "\r",
      "AlexNet Training:  72%|███████▏  | 18/25 [01:23<00:32,  4.60s/it]"
     ]
    },
    {
     "name": "stdout",
     "output_type": "stream",
     "text": [
      "Iteration 2176, Mini-batch Loss= 0.97957, Training Accuracy= 0.68750\n"
     ]
    },
    {
     "name": "stderr",
     "output_type": "stream",
     "text": [
      "\r",
      "AlexNet Training:  76%|███████▌  | 19/25 [01:29<00:29,  4.94s/it]"
     ]
    },
    {
     "name": "stdout",
     "output_type": "stream",
     "text": [
      "Iteration 2304, Mini-batch Loss= 0.89263, Training Accuracy= 0.67188\n"
     ]
    },
    {
     "name": "stderr",
     "output_type": "stream",
     "text": [
      "\r",
      "AlexNet Training:  80%|████████  | 20/25 [01:33<00:23,  4.68s/it]"
     ]
    },
    {
     "name": "stdout",
     "output_type": "stream",
     "text": [
      "Iteration 2432, Mini-batch Loss= 0.71582, Training Accuracy= 0.75781\n"
     ]
    },
    {
     "name": "stderr",
     "output_type": "stream",
     "text": [
      "\r",
      "AlexNet Training:  84%|████████▍ | 21/25 [01:37<00:18,  4.52s/it]"
     ]
    },
    {
     "name": "stdout",
     "output_type": "stream",
     "text": [
      "Iteration 2560, Mini-batch Loss= 0.95791, Training Accuracy= 0.67188\n"
     ]
    },
    {
     "name": "stderr",
     "output_type": "stream",
     "text": [
      "\r",
      "AlexNet Training:  88%|████████▊ | 22/25 [01:43<00:14,  4.83s/it]"
     ]
    },
    {
     "name": "stdout",
     "output_type": "stream",
     "text": [
      "Iteration 2688, Mini-batch Loss= 0.79970, Training Accuracy= 0.75000\n"
     ]
    },
    {
     "name": "stderr",
     "output_type": "stream",
     "text": [
      "\r",
      "AlexNet Training:  92%|█████████▏| 23/25 [01:47<00:09,  4.61s/it]"
     ]
    },
    {
     "name": "stdout",
     "output_type": "stream",
     "text": [
      "Iteration 2816, Mini-batch Loss= 1.04105, Training Accuracy= 0.65625\n"
     ]
    },
    {
     "name": "stderr",
     "output_type": "stream",
     "text": [
      "\r",
      "AlexNet Training:  96%|█████████▌| 24/25 [01:51<00:04,  4.33s/it]"
     ]
    },
    {
     "name": "stdout",
     "output_type": "stream",
     "text": [
      "Iteration 2944, Mini-batch Loss= 1.03641, Training Accuracy= 0.66406\n"
     ]
    },
    {
     "name": "stderr",
     "output_type": "stream",
     "text": [
      "AlexNet Training: 100%|██████████| 25/25 [01:56<00:00,  4.65s/it]"
     ]
    },
    {
     "name": "stdout",
     "output_type": "stream",
     "text": [
      "Iteration 3072, Mini-batch Loss= 0.93672, Training Accuracy= 0.70312\n",
      "Starting validation...\n"
     ]
    },
    {
     "name": "stderr",
     "output_type": "stream",
     "text": [
      "\n"
     ]
    },
    {
     "name": "stdout",
     "output_type": "stream",
     "text": [
      "Validation Accuracy = 0.36719\n",
      "2023-05-26 17:10:26.786095 Saving checkpoint of model...\n",
      "2023-05-26 17:10:27.827943 Model checkpoint saved at finetune_alexnet/CheckPoint/model_epoch3.ckpt\n",
      "2023-05-26 17:10:27.828048 Epoch number: 4\n"
     ]
    },
    {
     "name": "stderr",
     "output_type": "stream",
     "text": [
      "AlexNet Training:   4%|▍         | 1/25 [00:05<02:05,  5.22s/it]"
     ]
    },
    {
     "name": "stdout",
     "output_type": "stream",
     "text": [
      "Iteration 0, Mini-batch Loss= 0.76651, Training Accuracy= 0.73438\n"
     ]
    },
    {
     "name": "stderr",
     "output_type": "stream",
     "text": [
      "\r",
      "AlexNet Training:   8%|▊         | 2/25 [00:08<01:36,  4.20s/it]"
     ]
    },
    {
     "name": "stdout",
     "output_type": "stream",
     "text": [
      "Iteration 128, Mini-batch Loss= 0.58920, Training Accuracy= 0.82031\n"
     ]
    },
    {
     "name": "stderr",
     "output_type": "stream",
     "text": [
      "\r",
      "AlexNet Training:  12%|█▏        | 3/25 [00:12<01:29,  4.09s/it]"
     ]
    },
    {
     "name": "stdout",
     "output_type": "stream",
     "text": [
      "Iteration 256, Mini-batch Loss= 0.73758, Training Accuracy= 0.74219\n"
     ]
    },
    {
     "name": "stderr",
     "output_type": "stream",
     "text": [
      "\r",
      "AlexNet Training:  16%|█▌        | 4/25 [00:17<01:34,  4.48s/it]"
     ]
    },
    {
     "name": "stdout",
     "output_type": "stream",
     "text": [
      "Iteration 384, Mini-batch Loss= 0.60101, Training Accuracy= 0.80469\n"
     ]
    },
    {
     "name": "stderr",
     "output_type": "stream",
     "text": [
      "\r",
      "AlexNet Training:  20%|██        | 5/25 [00:22<01:29,  4.48s/it]"
     ]
    },
    {
     "name": "stdout",
     "output_type": "stream",
     "text": [
      "Iteration 512, Mini-batch Loss= 0.55015, Training Accuracy= 0.81250\n"
     ]
    },
    {
     "name": "stderr",
     "output_type": "stream",
     "text": [
      "\r",
      "AlexNet Training:  24%|██▍       | 6/25 [00:26<01:21,  4.30s/it]"
     ]
    },
    {
     "name": "stdout",
     "output_type": "stream",
     "text": [
      "Iteration 640, Mini-batch Loss= 0.88559, Training Accuracy= 0.71094\n"
     ]
    },
    {
     "name": "stderr",
     "output_type": "stream",
     "text": [
      "\r",
      "AlexNet Training:  28%|██▊       | 7/25 [00:32<01:26,  4.80s/it]"
     ]
    },
    {
     "name": "stdout",
     "output_type": "stream",
     "text": [
      "Iteration 768, Mini-batch Loss= 0.95710, Training Accuracy= 0.70312\n"
     ]
    },
    {
     "name": "stderr",
     "output_type": "stream",
     "text": [
      "\r",
      "AlexNet Training:  32%|███▏      | 8/25 [00:35<01:16,  4.52s/it]"
     ]
    },
    {
     "name": "stdout",
     "output_type": "stream",
     "text": [
      "Iteration 896, Mini-batch Loss= 0.84580, Training Accuracy= 0.72656\n"
     ]
    },
    {
     "name": "stderr",
     "output_type": "stream",
     "text": [
      "\r",
      "AlexNet Training:  36%|███▌      | 9/25 [00:39<01:07,  4.22s/it]"
     ]
    },
    {
     "name": "stdout",
     "output_type": "stream",
     "text": [
      "Iteration 1024, Mini-batch Loss= 0.57538, Training Accuracy= 0.79688\n"
     ]
    },
    {
     "name": "stderr",
     "output_type": "stream",
     "text": [
      "\r",
      "AlexNet Training:  40%|████      | 10/25 [00:45<01:09,  4.65s/it]"
     ]
    },
    {
     "name": "stdout",
     "output_type": "stream",
     "text": [
      "Iteration 1152, Mini-batch Loss= 0.60522, Training Accuracy= 0.81250\n"
     ]
    },
    {
     "name": "stderr",
     "output_type": "stream",
     "text": [
      "\r",
      "AlexNet Training:  44%|████▍     | 11/25 [00:49<01:03,  4.55s/it]"
     ]
    },
    {
     "name": "stdout",
     "output_type": "stream",
     "text": [
      "Iteration 1280, Mini-batch Loss= 0.75602, Training Accuracy= 0.71875\n"
     ]
    },
    {
     "name": "stderr",
     "output_type": "stream",
     "text": [
      "\r",
      "AlexNet Training:  48%|████▊     | 12/25 [00:54<01:01,  4.75s/it]"
     ]
    },
    {
     "name": "stdout",
     "output_type": "stream",
     "text": [
      "Iteration 1408, Mini-batch Loss= 0.75736, Training Accuracy= 0.71875\n"
     ]
    },
    {
     "name": "stderr",
     "output_type": "stream",
     "text": [
      "\r",
      "AlexNet Training:  52%|█████▏    | 13/25 [01:00<01:00,  5.00s/it]"
     ]
    },
    {
     "name": "stdout",
     "output_type": "stream",
     "text": [
      "Iteration 1536, Mini-batch Loss= 0.57914, Training Accuracy= 0.81250\n"
     ]
    },
    {
     "name": "stderr",
     "output_type": "stream",
     "text": [
      "\r",
      "AlexNet Training:  56%|█████▌    | 14/25 [01:04<00:52,  4.79s/it]"
     ]
    },
    {
     "name": "stdout",
     "output_type": "stream",
     "text": [
      "Iteration 1664, Mini-batch Loss= 0.63052, Training Accuracy= 0.78125\n"
     ]
    },
    {
     "name": "stderr",
     "output_type": "stream",
     "text": [
      "\r",
      "AlexNet Training:  60%|██████    | 15/25 [01:08<00:44,  4.48s/it]"
     ]
    },
    {
     "name": "stdout",
     "output_type": "stream",
     "text": [
      "Iteration 1792, Mini-batch Loss= 0.74355, Training Accuracy= 0.74219\n"
     ]
    },
    {
     "name": "stderr",
     "output_type": "stream",
     "text": [
      "\r",
      "AlexNet Training:  64%|██████▍   | 16/25 [01:13<00:43,  4.79s/it]"
     ]
    },
    {
     "name": "stdout",
     "output_type": "stream",
     "text": [
      "Iteration 1920, Mini-batch Loss= 0.88349, Training Accuracy= 0.66406\n"
     ]
    },
    {
     "name": "stderr",
     "output_type": "stream",
     "text": [
      "\r",
      "AlexNet Training:  68%|██████▊   | 17/25 [01:18<00:37,  4.64s/it]"
     ]
    },
    {
     "name": "stdout",
     "output_type": "stream",
     "text": [
      "Iteration 2048, Mini-batch Loss= 0.75450, Training Accuracy= 0.72656\n"
     ]
    },
    {
     "name": "stderr",
     "output_type": "stream",
     "text": [
      "\r",
      "AlexNet Training:  72%|███████▏  | 18/25 [01:22<00:31,  4.54s/it]"
     ]
    },
    {
     "name": "stdout",
     "output_type": "stream",
     "text": [
      "Iteration 2176, Mini-batch Loss= 0.70466, Training Accuracy= 0.74219\n"
     ]
    },
    {
     "name": "stderr",
     "output_type": "stream",
     "text": [
      "\r",
      "AlexNet Training:  76%|███████▌  | 19/25 [01:28<00:29,  4.96s/it]"
     ]
    },
    {
     "name": "stdout",
     "output_type": "stream",
     "text": [
      "Iteration 2304, Mini-batch Loss= 0.75602, Training Accuracy= 0.71094\n"
     ]
    },
    {
     "name": "stderr",
     "output_type": "stream",
     "text": [
      "\r",
      "AlexNet Training:  80%|████████  | 20/25 [01:32<00:23,  4.73s/it]"
     ]
    },
    {
     "name": "stdout",
     "output_type": "stream",
     "text": [
      "Iteration 2432, Mini-batch Loss= 0.67474, Training Accuracy= 0.78125\n"
     ]
    },
    {
     "name": "stderr",
     "output_type": "stream",
     "text": [
      "\r",
      "AlexNet Training:  84%|████████▍ | 21/25 [01:36<00:18,  4.51s/it]"
     ]
    },
    {
     "name": "stdout",
     "output_type": "stream",
     "text": [
      "Iteration 2560, Mini-batch Loss= 0.81167, Training Accuracy= 0.74219\n"
     ]
    },
    {
     "name": "stderr",
     "output_type": "stream",
     "text": [
      "\r",
      "AlexNet Training:  88%|████████▊ | 22/25 [01:42<00:14,  4.99s/it]"
     ]
    },
    {
     "name": "stdout",
     "output_type": "stream",
     "text": [
      "Iteration 2688, Mini-batch Loss= 0.83810, Training Accuracy= 0.75000\n"
     ]
    },
    {
     "name": "stderr",
     "output_type": "stream",
     "text": [
      "\r",
      "AlexNet Training:  92%|█████████▏| 23/25 [01:46<00:09,  4.72s/it]"
     ]
    },
    {
     "name": "stdout",
     "output_type": "stream",
     "text": [
      "Iteration 2816, Mini-batch Loss= 0.70849, Training Accuracy= 0.75000\n"
     ]
    },
    {
     "name": "stderr",
     "output_type": "stream",
     "text": [
      "\r",
      "AlexNet Training:  96%|█████████▌| 24/25 [01:51<00:04,  4.68s/it]"
     ]
    },
    {
     "name": "stdout",
     "output_type": "stream",
     "text": [
      "Iteration 2944, Mini-batch Loss= 0.93189, Training Accuracy= 0.70312\n"
     ]
    },
    {
     "name": "stderr",
     "output_type": "stream",
     "text": [
      "AlexNet Training: 100%|██████████| 25/25 [01:56<00:00,  4.67s/it]"
     ]
    },
    {
     "name": "stdout",
     "output_type": "stream",
     "text": [
      "Iteration 3072, Mini-batch Loss= 0.73660, Training Accuracy= 0.77344\n",
      "Starting validation...\n"
     ]
    },
    {
     "name": "stderr",
     "output_type": "stream",
     "text": [
      "\n"
     ]
    },
    {
     "name": "stdout",
     "output_type": "stream",
     "text": [
      "Validation Accuracy = 0.36719\n",
      "2023-05-26 17:12:44.583561 Saving checkpoint of model...\n",
      "2023-05-26 17:12:45.786045 Model checkpoint saved at finetune_alexnet/CheckPoint/model_epoch4.ckpt\n",
      "2023-05-26 17:12:45.786292 Epoch number: 5\n"
     ]
    },
    {
     "name": "stderr",
     "output_type": "stream",
     "text": [
      "AlexNet Training:   4%|▍         | 1/25 [00:06<02:26,  6.12s/it]"
     ]
    },
    {
     "name": "stdout",
     "output_type": "stream",
     "text": [
      "Iteration 0, Mini-batch Loss= 0.60109, Training Accuracy= 0.83594\n"
     ]
    },
    {
     "name": "stderr",
     "output_type": "stream",
     "text": [
      "\r",
      "AlexNet Training:   8%|▊         | 2/25 [00:10<01:59,  5.20s/it]"
     ]
    },
    {
     "name": "stdout",
     "output_type": "stream",
     "text": [
      "Iteration 128, Mini-batch Loss= 0.62399, Training Accuracy= 0.83594\n"
     ]
    },
    {
     "name": "stderr",
     "output_type": "stream",
     "text": [
      "\r",
      "AlexNet Training:  12%|█▏        | 3/25 [00:14<01:44,  4.74s/it]"
     ]
    },
    {
     "name": "stdout",
     "output_type": "stream",
     "text": [
      "Iteration 256, Mini-batch Loss= 0.62774, Training Accuracy= 0.78125\n"
     ]
    },
    {
     "name": "stderr",
     "output_type": "stream",
     "text": [
      "\r",
      "AlexNet Training:  16%|█▌        | 4/25 [00:21<01:52,  5.35s/it]"
     ]
    },
    {
     "name": "stdout",
     "output_type": "stream",
     "text": [
      "Iteration 384, Mini-batch Loss= 0.54924, Training Accuracy= 0.84375\n"
     ]
    },
    {
     "name": "stderr",
     "output_type": "stream",
     "text": [
      "\r",
      "AlexNet Training:  20%|██        | 5/25 [00:25<01:40,  5.00s/it]"
     ]
    },
    {
     "name": "stdout",
     "output_type": "stream",
     "text": [
      "Iteration 512, Mini-batch Loss= 0.57119, Training Accuracy= 0.81250\n"
     ]
    },
    {
     "name": "stderr",
     "output_type": "stream",
     "text": [
      "\r",
      "AlexNet Training:  24%|██▍       | 6/25 [00:29<01:27,  4.63s/it]"
     ]
    },
    {
     "name": "stdout",
     "output_type": "stream",
     "text": [
      "Iteration 640, Mini-batch Loss= 0.44283, Training Accuracy= 0.90625\n"
     ]
    },
    {
     "name": "stderr",
     "output_type": "stream",
     "text": [
      "\r",
      "AlexNet Training:  28%|██▊       | 7/25 [00:35<01:30,  5.01s/it]"
     ]
    },
    {
     "name": "stdout",
     "output_type": "stream",
     "text": [
      "Iteration 768, Mini-batch Loss= 0.64038, Training Accuracy= 0.78906\n"
     ]
    },
    {
     "name": "stderr",
     "output_type": "stream",
     "text": [
      "\r",
      "AlexNet Training:  32%|███▏      | 8/25 [00:39<01:19,  4.67s/it]"
     ]
    },
    {
     "name": "stdout",
     "output_type": "stream",
     "text": [
      "Iteration 896, Mini-batch Loss= 0.59064, Training Accuracy= 0.82031\n"
     ]
    },
    {
     "name": "stderr",
     "output_type": "stream",
     "text": [
      "\r",
      "AlexNet Training:  36%|███▌      | 9/25 [00:43<01:13,  4.59s/it]"
     ]
    },
    {
     "name": "stdout",
     "output_type": "stream",
     "text": [
      "Iteration 1024, Mini-batch Loss= 0.60104, Training Accuracy= 0.78125\n"
     ]
    },
    {
     "name": "stderr",
     "output_type": "stream",
     "text": [
      "\r",
      "AlexNet Training:  40%|████      | 10/25 [00:49<01:15,  5.04s/it]"
     ]
    },
    {
     "name": "stdout",
     "output_type": "stream",
     "text": [
      "Iteration 1152, Mini-batch Loss= 0.60366, Training Accuracy= 0.79688\n"
     ]
    },
    {
     "name": "stderr",
     "output_type": "stream",
     "text": [
      "\r",
      "AlexNet Training:  44%|████▍     | 11/25 [00:54<01:08,  4.87s/it]"
     ]
    },
    {
     "name": "stdout",
     "output_type": "stream",
     "text": [
      "Iteration 1280, Mini-batch Loss= 0.61052, Training Accuracy= 0.79688\n"
     ]
    },
    {
     "name": "stderr",
     "output_type": "stream",
     "text": [
      "\r",
      "AlexNet Training:  48%|████▊     | 12/25 [00:58<01:00,  4.65s/it]"
     ]
    },
    {
     "name": "stdout",
     "output_type": "stream",
     "text": [
      "Iteration 1408, Mini-batch Loss= 0.55941, Training Accuracy= 0.84375\n"
     ]
    },
    {
     "name": "stderr",
     "output_type": "stream",
     "text": [
      "\r",
      "AlexNet Training:  52%|█████▏    | 13/25 [01:04<00:59,  4.99s/it]"
     ]
    },
    {
     "name": "stdout",
     "output_type": "stream",
     "text": [
      "Iteration 1536, Mini-batch Loss= 0.61910, Training Accuracy= 0.78906\n"
     ]
    },
    {
     "name": "stderr",
     "output_type": "stream",
     "text": [
      "\r",
      "AlexNet Training:  56%|█████▌    | 14/25 [01:07<00:51,  4.66s/it]"
     ]
    },
    {
     "name": "stdout",
     "output_type": "stream",
     "text": [
      "Iteration 1664, Mini-batch Loss= 0.64700, Training Accuracy= 0.82812\n"
     ]
    },
    {
     "name": "stderr",
     "output_type": "stream",
     "text": [
      "\r",
      "AlexNet Training:  60%|██████    | 15/25 [01:12<00:45,  4.56s/it]"
     ]
    },
    {
     "name": "stdout",
     "output_type": "stream",
     "text": [
      "Iteration 1792, Mini-batch Loss= 0.63533, Training Accuracy= 0.81250\n"
     ]
    },
    {
     "name": "stderr",
     "output_type": "stream",
     "text": [
      "\r",
      "AlexNet Training:  64%|██████▍   | 16/25 [01:17<00:43,  4.87s/it]"
     ]
    },
    {
     "name": "stdout",
     "output_type": "stream",
     "text": [
      "Iteration 1920, Mini-batch Loss= 0.63628, Training Accuracy= 0.80469\n"
     ]
    },
    {
     "name": "stderr",
     "output_type": "stream",
     "text": [
      "\r",
      "AlexNet Training:  68%|██████▊   | 17/25 [01:21<00:36,  4.62s/it]"
     ]
    },
    {
     "name": "stdout",
     "output_type": "stream",
     "text": [
      "Iteration 2048, Mini-batch Loss= 0.71763, Training Accuracy= 0.76562\n"
     ]
    },
    {
     "name": "stderr",
     "output_type": "stream",
     "text": [
      "\r",
      "AlexNet Training:  72%|███████▏  | 18/25 [01:26<00:31,  4.56s/it]"
     ]
    },
    {
     "name": "stdout",
     "output_type": "stream",
     "text": [
      "Iteration 2176, Mini-batch Loss= 0.60894, Training Accuracy= 0.80469\n"
     ]
    },
    {
     "name": "stderr",
     "output_type": "stream",
     "text": [
      "\r",
      "AlexNet Training:  76%|███████▌  | 19/25 [01:32<00:30,  5.05s/it]"
     ]
    },
    {
     "name": "stdout",
     "output_type": "stream",
     "text": [
      "Iteration 2304, Mini-batch Loss= 0.61099, Training Accuracy= 0.81250\n"
     ]
    },
    {
     "name": "stderr",
     "output_type": "stream",
     "text": [
      "\r",
      "AlexNet Training:  80%|████████  | 20/25 [01:36<00:23,  4.72s/it]"
     ]
    },
    {
     "name": "stdout",
     "output_type": "stream",
     "text": [
      "Iteration 2432, Mini-batch Loss= 0.62673, Training Accuracy= 0.80469\n"
     ]
    },
    {
     "name": "stderr",
     "output_type": "stream",
     "text": [
      "\r",
      "AlexNet Training:  84%|████████▍ | 21/25 [01:41<00:18,  4.71s/it]"
     ]
    },
    {
     "name": "stdout",
     "output_type": "stream",
     "text": [
      "Iteration 2560, Mini-batch Loss= 0.69025, Training Accuracy= 0.78125\n"
     ]
    },
    {
     "name": "stderr",
     "output_type": "stream",
     "text": [
      "\r",
      "AlexNet Training:  88%|████████▊ | 22/25 [01:47<00:15,  5.06s/it]"
     ]
    },
    {
     "name": "stdout",
     "output_type": "stream",
     "text": [
      "Iteration 2688, Mini-batch Loss= 0.61985, Training Accuracy= 0.82031\n"
     ]
    },
    {
     "name": "stderr",
     "output_type": "stream",
     "text": [
      "\r",
      "AlexNet Training:  92%|█████████▏| 23/25 [01:51<00:09,  4.87s/it]"
     ]
    },
    {
     "name": "stdout",
     "output_type": "stream",
     "text": [
      "Iteration 2816, Mini-batch Loss= 0.62726, Training Accuracy= 0.78906\n"
     ]
    },
    {
     "name": "stderr",
     "output_type": "stream",
     "text": [
      "\r",
      "AlexNet Training:  96%|█████████▌| 24/25 [01:55<00:04,  4.63s/it]"
     ]
    },
    {
     "name": "stdout",
     "output_type": "stream",
     "text": [
      "Iteration 2944, Mini-batch Loss= 0.57642, Training Accuracy= 0.81250\n"
     ]
    },
    {
     "name": "stderr",
     "output_type": "stream",
     "text": [
      "AlexNet Training: 100%|██████████| 25/25 [02:01<00:00,  4.85s/it]"
     ]
    },
    {
     "name": "stdout",
     "output_type": "stream",
     "text": [
      "Iteration 3072, Mini-batch Loss= 0.65163, Training Accuracy= 0.76562\n",
      "Starting validation...\n"
     ]
    },
    {
     "name": "stderr",
     "output_type": "stream",
     "text": [
      "\n"
     ]
    },
    {
     "name": "stdout",
     "output_type": "stream",
     "text": [
      "Validation Accuracy = 0.42188\n",
      "2023-05-26 17:15:05.915595 Saving checkpoint of model...\n",
      "2023-05-26 17:15:07.282806 Model checkpoint saved at finetune_alexnet/CheckPoint/model_epoch5.ckpt\n",
      "2023-05-26 17:15:07.282909 Epoch number: 6\n"
     ]
    },
    {
     "name": "stderr",
     "output_type": "stream",
     "text": [
      "AlexNet Training:   4%|▍         | 1/25 [00:05<02:15,  5.65s/it]"
     ]
    },
    {
     "name": "stdout",
     "output_type": "stream",
     "text": [
      "Iteration 0, Mini-batch Loss= 0.54018, Training Accuracy= 0.83594\n"
     ]
    },
    {
     "name": "stderr",
     "output_type": "stream",
     "text": [
      "\r",
      "AlexNet Training:   8%|▊         | 2/25 [00:10<02:00,  5.25s/it]"
     ]
    },
    {
     "name": "stdout",
     "output_type": "stream",
     "text": [
      "Iteration 128, Mini-batch Loss= 0.52483, Training Accuracy= 0.87500\n"
     ]
    },
    {
     "name": "stderr",
     "output_type": "stream",
     "text": [
      "\r",
      "AlexNet Training:  12%|█▏        | 3/25 [00:15<01:47,  4.87s/it]"
     ]
    },
    {
     "name": "stdout",
     "output_type": "stream",
     "text": [
      "Iteration 256, Mini-batch Loss= 0.50128, Training Accuracy= 0.85938\n"
     ]
    },
    {
     "name": "stderr",
     "output_type": "stream",
     "text": [
      "\r",
      "AlexNet Training:  16%|█▌        | 4/25 [00:20<01:50,  5.24s/it]"
     ]
    },
    {
     "name": "stdout",
     "output_type": "stream",
     "text": [
      "Iteration 384, Mini-batch Loss= 0.51693, Training Accuracy= 0.83594\n"
     ]
    },
    {
     "name": "stderr",
     "output_type": "stream",
     "text": [
      "\r",
      "AlexNet Training:  20%|██        | 5/25 [00:24<01:35,  4.77s/it]"
     ]
    },
    {
     "name": "stdout",
     "output_type": "stream",
     "text": [
      "Iteration 512, Mini-batch Loss= 0.53238, Training Accuracy= 0.85938\n"
     ]
    },
    {
     "name": "stderr",
     "output_type": "stream",
     "text": [
      "\r",
      "AlexNet Training:  24%|██▍       | 6/25 [00:28<01:24,  4.42s/it]"
     ]
    },
    {
     "name": "stdout",
     "output_type": "stream",
     "text": [
      "Iteration 640, Mini-batch Loss= 0.52943, Training Accuracy= 0.86719\n"
     ]
    },
    {
     "name": "stderr",
     "output_type": "stream",
     "text": [
      "\r",
      "AlexNet Training:  28%|██▊       | 7/25 [00:34<01:26,  4.80s/it]"
     ]
    },
    {
     "name": "stdout",
     "output_type": "stream",
     "text": [
      "Iteration 768, Mini-batch Loss= 0.53168, Training Accuracy= 0.85938\n"
     ]
    },
    {
     "name": "stderr",
     "output_type": "stream",
     "text": [
      "\r",
      "AlexNet Training:  32%|███▏      | 8/25 [00:38<01:17,  4.53s/it]"
     ]
    },
    {
     "name": "stdout",
     "output_type": "stream",
     "text": [
      "Iteration 896, Mini-batch Loss= 0.52902, Training Accuracy= 0.82031\n"
     ]
    },
    {
     "name": "stderr",
     "output_type": "stream",
     "text": [
      "\r",
      "AlexNet Training:  36%|███▌      | 9/25 [00:41<01:08,  4.27s/it]"
     ]
    },
    {
     "name": "stdout",
     "output_type": "stream",
     "text": [
      "Iteration 1024, Mini-batch Loss= 0.51832, Training Accuracy= 0.85156\n"
     ]
    },
    {
     "name": "stderr",
     "output_type": "stream",
     "text": [
      "\r",
      "AlexNet Training:  40%|████      | 10/25 [00:47<01:08,  4.57s/it]"
     ]
    },
    {
     "name": "stdout",
     "output_type": "stream",
     "text": [
      "Iteration 1152, Mini-batch Loss= 0.49895, Training Accuracy= 0.82031\n"
     ]
    },
    {
     "name": "stderr",
     "output_type": "stream",
     "text": [
      "\r",
      "AlexNet Training:  44%|████▍     | 11/25 [00:51<01:04,  4.59s/it]"
     ]
    },
    {
     "name": "stdout",
     "output_type": "stream",
     "text": [
      "Iteration 1280, Mini-batch Loss= 0.49997, Training Accuracy= 0.87500\n"
     ]
    },
    {
     "name": "stderr",
     "output_type": "stream",
     "text": [
      "\r",
      "AlexNet Training:  48%|████▊     | 12/25 [00:55<00:58,  4.48s/it]"
     ]
    },
    {
     "name": "stdout",
     "output_type": "stream",
     "text": [
      "Iteration 1408, Mini-batch Loss= 0.43888, Training Accuracy= 0.89062\n"
     ]
    },
    {
     "name": "stderr",
     "output_type": "stream",
     "text": [
      "\r",
      "AlexNet Training:  52%|█████▏    | 13/25 [01:01<00:58,  4.88s/it]"
     ]
    },
    {
     "name": "stdout",
     "output_type": "stream",
     "text": [
      "Iteration 1536, Mini-batch Loss= 0.43539, Training Accuracy= 0.90625\n"
     ]
    },
    {
     "name": "stderr",
     "output_type": "stream",
     "text": [
      "\r",
      "AlexNet Training:  56%|█████▌    | 14/25 [01:05<00:51,  4.71s/it]"
     ]
    },
    {
     "name": "stdout",
     "output_type": "stream",
     "text": [
      "Iteration 1664, Mini-batch Loss= 0.51256, Training Accuracy= 0.88281\n"
     ]
    },
    {
     "name": "stderr",
     "output_type": "stream",
     "text": [
      "\r",
      "AlexNet Training:  60%|██████    | 15/25 [01:10<00:45,  4.59s/it]"
     ]
    },
    {
     "name": "stdout",
     "output_type": "stream",
     "text": [
      "Iteration 1792, Mini-batch Loss= 0.57934, Training Accuracy= 0.83594\n"
     ]
    },
    {
     "name": "stderr",
     "output_type": "stream",
     "text": [
      "\r",
      "AlexNet Training:  64%|██████▍   | 16/25 [01:15<00:42,  4.75s/it]"
     ]
    },
    {
     "name": "stdout",
     "output_type": "stream",
     "text": [
      "Iteration 1920, Mini-batch Loss= 0.61039, Training Accuracy= 0.79688\n"
     ]
    },
    {
     "name": "stderr",
     "output_type": "stream",
     "text": [
      "\r",
      "AlexNet Training:  68%|██████▊   | 17/25 [01:19<00:35,  4.50s/it]"
     ]
    },
    {
     "name": "stdout",
     "output_type": "stream",
     "text": [
      "Iteration 2048, Mini-batch Loss= 0.56378, Training Accuracy= 0.83594\n"
     ]
    },
    {
     "name": "stderr",
     "output_type": "stream",
     "text": [
      "\r",
      "AlexNet Training:  72%|███████▏  | 18/25 [01:23<00:30,  4.39s/it]"
     ]
    },
    {
     "name": "stdout",
     "output_type": "stream",
     "text": [
      "Iteration 2176, Mini-batch Loss= 0.66916, Training Accuracy= 0.75781\n"
     ]
    },
    {
     "name": "stderr",
     "output_type": "stream",
     "text": [
      "\r",
      "AlexNet Training:  76%|███████▌  | 19/25 [01:29<00:29,  4.91s/it]"
     ]
    },
    {
     "name": "stdout",
     "output_type": "stream",
     "text": [
      "Iteration 2304, Mini-batch Loss= 0.57114, Training Accuracy= 0.84375\n"
     ]
    },
    {
     "name": "stderr",
     "output_type": "stream",
     "text": [
      "\r",
      "AlexNet Training:  80%|████████  | 20/25 [01:33<00:23,  4.61s/it]"
     ]
    },
    {
     "name": "stdout",
     "output_type": "stream",
     "text": [
      "Iteration 2432, Mini-batch Loss= 0.59842, Training Accuracy= 0.80469\n"
     ]
    },
    {
     "name": "stderr",
     "output_type": "stream",
     "text": [
      "\r",
      "AlexNet Training:  84%|████████▍ | 21/25 [01:38<00:18,  4.66s/it]"
     ]
    },
    {
     "name": "stdout",
     "output_type": "stream",
     "text": [
      "Iteration 2560, Mini-batch Loss= 0.60409, Training Accuracy= 0.82812\n"
     ]
    },
    {
     "name": "stderr",
     "output_type": "stream",
     "text": [
      "\r",
      "AlexNet Training:  88%|████████▊ | 22/25 [01:43<00:14,  4.85s/it]"
     ]
    },
    {
     "name": "stdout",
     "output_type": "stream",
     "text": [
      "Iteration 2688, Mini-batch Loss= 0.54660, Training Accuracy= 0.87500\n"
     ]
    },
    {
     "name": "stderr",
     "output_type": "stream",
     "text": [
      "\r",
      "AlexNet Training:  92%|█████████▏| 23/25 [01:47<00:09,  4.59s/it]"
     ]
    },
    {
     "name": "stdout",
     "output_type": "stream",
     "text": [
      "Iteration 2816, Mini-batch Loss= 0.51226, Training Accuracy= 0.86719\n"
     ]
    },
    {
     "name": "stderr",
     "output_type": "stream",
     "text": [
      "\r",
      "AlexNet Training:  96%|█████████▌| 24/25 [01:51<00:04,  4.31s/it]"
     ]
    },
    {
     "name": "stdout",
     "output_type": "stream",
     "text": [
      "Iteration 2944, Mini-batch Loss= 0.62725, Training Accuracy= 0.81250\n"
     ]
    },
    {
     "name": "stderr",
     "output_type": "stream",
     "text": [
      "AlexNet Training: 100%|██████████| 25/25 [01:56<00:00,  4.67s/it]"
     ]
    },
    {
     "name": "stdout",
     "output_type": "stream",
     "text": [
      "Iteration 3072, Mini-batch Loss= 0.61951, Training Accuracy= 0.78906\n",
      "Starting validation...\n"
     ]
    },
    {
     "name": "stderr",
     "output_type": "stream",
     "text": [
      "\n"
     ]
    },
    {
     "name": "stdout",
     "output_type": "stream",
     "text": [
      "Validation Accuracy = 0.37500\n",
      "2023-05-26 17:17:23.319589 Saving checkpoint of model...\n",
      "2023-05-26 17:17:24.704016 Model checkpoint saved at finetune_alexnet/CheckPoint/model_epoch6.ckpt\n",
      "2023-05-26 17:17:24.704112 Epoch number: 7\n"
     ]
    },
    {
     "name": "stderr",
     "output_type": "stream",
     "text": [
      "AlexNet Training:   4%|▍         | 1/25 [00:05<02:00,  5.01s/it]"
     ]
    },
    {
     "name": "stdout",
     "output_type": "stream",
     "text": [
      "Iteration 0, Mini-batch Loss= 0.54454, Training Accuracy= 0.84375\n"
     ]
    },
    {
     "name": "stderr",
     "output_type": "stream",
     "text": [
      "\r",
      "AlexNet Training:   8%|▊         | 2/25 [00:08<01:33,  4.08s/it]"
     ]
    },
    {
     "name": "stdout",
     "output_type": "stream",
     "text": [
      "Iteration 128, Mini-batch Loss= 0.45306, Training Accuracy= 0.90625\n"
     ]
    },
    {
     "name": "stderr",
     "output_type": "stream",
     "text": [
      "\r",
      "AlexNet Training:  12%|█▏        | 3/25 [00:12<01:27,  3.96s/it]"
     ]
    },
    {
     "name": "stdout",
     "output_type": "stream",
     "text": [
      "Iteration 256, Mini-batch Loss= 0.44790, Training Accuracy= 0.88281\n"
     ]
    },
    {
     "name": "stderr",
     "output_type": "stream",
     "text": [
      "\r",
      "AlexNet Training:  16%|█▌        | 4/25 [00:18<01:41,  4.85s/it]"
     ]
    },
    {
     "name": "stdout",
     "output_type": "stream",
     "text": [
      "Iteration 384, Mini-batch Loss= 0.49753, Training Accuracy= 0.86719\n"
     ]
    },
    {
     "name": "stderr",
     "output_type": "stream",
     "text": [
      "\r",
      "AlexNet Training:  20%|██        | 5/25 [00:22<01:30,  4.51s/it]"
     ]
    },
    {
     "name": "stdout",
     "output_type": "stream",
     "text": [
      "Iteration 512, Mini-batch Loss= 0.51738, Training Accuracy= 0.86719\n"
     ]
    },
    {
     "name": "stderr",
     "output_type": "stream",
     "text": [
      "\r",
      "AlexNet Training:  24%|██▍       | 6/25 [00:27<01:28,  4.66s/it]"
     ]
    },
    {
     "name": "stdout",
     "output_type": "stream",
     "text": [
      "Iteration 640, Mini-batch Loss= 0.40472, Training Accuracy= 0.90625\n"
     ]
    },
    {
     "name": "stderr",
     "output_type": "stream",
     "text": [
      "\r",
      "AlexNet Training:  28%|██▊       | 7/25 [00:32<01:28,  4.91s/it]"
     ]
    },
    {
     "name": "stdout",
     "output_type": "stream",
     "text": [
      "Iteration 768, Mini-batch Loss= 0.51290, Training Accuracy= 0.87500\n"
     ]
    },
    {
     "name": "stderr",
     "output_type": "stream",
     "text": [
      "\r",
      "AlexNet Training:  32%|███▏      | 8/25 [00:37<01:24,  4.98s/it]"
     ]
    },
    {
     "name": "stdout",
     "output_type": "stream",
     "text": [
      "Iteration 896, Mini-batch Loss= 0.47334, Training Accuracy= 0.86719\n"
     ]
    },
    {
     "name": "stderr",
     "output_type": "stream",
     "text": [
      "\r",
      "AlexNet Training:  36%|███▌      | 9/25 [00:41<01:14,  4.68s/it]"
     ]
    },
    {
     "name": "stdout",
     "output_type": "stream",
     "text": [
      "Iteration 1024, Mini-batch Loss= 0.53918, Training Accuracy= 0.83594\n"
     ]
    },
    {
     "name": "stderr",
     "output_type": "stream",
     "text": [
      "\r",
      "AlexNet Training:  40%|████      | 10/25 [00:47<01:15,  5.06s/it]"
     ]
    },
    {
     "name": "stdout",
     "output_type": "stream",
     "text": [
      "Iteration 1152, Mini-batch Loss= 0.52628, Training Accuracy= 0.85156\n"
     ]
    },
    {
     "name": "stderr",
     "output_type": "stream",
     "text": [
      "\r",
      "AlexNet Training:  44%|████▍     | 11/25 [00:52<01:07,  4.84s/it]"
     ]
    },
    {
     "name": "stdout",
     "output_type": "stream",
     "text": [
      "Iteration 1280, Mini-batch Loss= 0.52479, Training Accuracy= 0.85156\n"
     ]
    },
    {
     "name": "stderr",
     "output_type": "stream",
     "text": [
      "\r",
      "AlexNet Training:  48%|████▊     | 12/25 [00:56<01:01,  4.75s/it]"
     ]
    },
    {
     "name": "stdout",
     "output_type": "stream",
     "text": [
      "Iteration 1408, Mini-batch Loss= 0.43864, Training Accuracy= 0.89844\n"
     ]
    },
    {
     "name": "stderr",
     "output_type": "stream",
     "text": [
      "\r",
      "AlexNet Training:  52%|█████▏    | 13/25 [01:02<01:00,  5.03s/it]"
     ]
    },
    {
     "name": "stdout",
     "output_type": "stream",
     "text": [
      "Iteration 1536, Mini-batch Loss= 0.44418, Training Accuracy= 0.89062\n"
     ]
    },
    {
     "name": "stderr",
     "output_type": "stream",
     "text": [
      "\r",
      "AlexNet Training:  56%|█████▌    | 14/25 [01:06<00:52,  4.79s/it]"
     ]
    },
    {
     "name": "stdout",
     "output_type": "stream",
     "text": [
      "Iteration 1664, Mini-batch Loss= 0.43486, Training Accuracy= 0.92969\n"
     ]
    },
    {
     "name": "stderr",
     "output_type": "stream",
     "text": [
      "\r",
      "AlexNet Training:  60%|██████    | 15/25 [01:10<00:45,  4.59s/it]"
     ]
    },
    {
     "name": "stdout",
     "output_type": "stream",
     "text": [
      "Iteration 1792, Mini-batch Loss= 0.52929, Training Accuracy= 0.87500\n"
     ]
    },
    {
     "name": "stderr",
     "output_type": "stream",
     "text": [
      "\r",
      "AlexNet Training:  64%|██████▍   | 16/25 [01:16<00:45,  5.05s/it]"
     ]
    },
    {
     "name": "stdout",
     "output_type": "stream",
     "text": [
      "Iteration 1920, Mini-batch Loss= 0.56159, Training Accuracy= 0.84375\n"
     ]
    },
    {
     "name": "stderr",
     "output_type": "stream",
     "text": [
      "\r",
      "AlexNet Training:  68%|██████▊   | 17/25 [01:21<00:39,  4.89s/it]"
     ]
    },
    {
     "name": "stdout",
     "output_type": "stream",
     "text": [
      "Iteration 2048, Mini-batch Loss= 0.53244, Training Accuracy= 0.85938\n"
     ]
    },
    {
     "name": "stderr",
     "output_type": "stream",
     "text": [
      "\r",
      "AlexNet Training:  72%|███████▏  | 18/25 [01:26<00:34,  4.87s/it]"
     ]
    },
    {
     "name": "stdout",
     "output_type": "stream",
     "text": [
      "Iteration 2176, Mini-batch Loss= 0.46082, Training Accuracy= 0.90625\n"
     ]
    },
    {
     "name": "stderr",
     "output_type": "stream",
     "text": [
      "\r",
      "AlexNet Training:  76%|███████▌  | 19/25 [01:32<00:31,  5.18s/it]"
     ]
    },
    {
     "name": "stdout",
     "output_type": "stream",
     "text": [
      "Iteration 2304, Mini-batch Loss= 0.60609, Training Accuracy= 0.85156\n"
     ]
    },
    {
     "name": "stderr",
     "output_type": "stream",
     "text": [
      "\r",
      "AlexNet Training:  80%|████████  | 20/25 [01:35<00:23,  4.68s/it]"
     ]
    },
    {
     "name": "stdout",
     "output_type": "stream",
     "text": [
      "Iteration 2432, Mini-batch Loss= 0.43475, Training Accuracy= 0.91406\n"
     ]
    },
    {
     "name": "stderr",
     "output_type": "stream",
     "text": [
      "\r",
      "AlexNet Training:  84%|████████▍ | 21/25 [01:39<00:18,  4.54s/it]"
     ]
    },
    {
     "name": "stdout",
     "output_type": "stream",
     "text": [
      "Iteration 2560, Mini-batch Loss= 0.52789, Training Accuracy= 0.83594\n"
     ]
    },
    {
     "name": "stderr",
     "output_type": "stream",
     "text": [
      "\r",
      "AlexNet Training:  88%|████████▊ | 22/25 [01:46<00:15,  5.05s/it]"
     ]
    },
    {
     "name": "stdout",
     "output_type": "stream",
     "text": [
      "Iteration 2688, Mini-batch Loss= 0.56382, Training Accuracy= 0.83594\n"
     ]
    },
    {
     "name": "stderr",
     "output_type": "stream",
     "text": [
      "\r",
      "AlexNet Training:  92%|█████████▏| 23/25 [01:51<00:10,  5.12s/it]"
     ]
    },
    {
     "name": "stdout",
     "output_type": "stream",
     "text": [
      "Iteration 2816, Mini-batch Loss= 0.45051, Training Accuracy= 0.92188\n"
     ]
    },
    {
     "name": "stderr",
     "output_type": "stream",
     "text": [
      "\r",
      "AlexNet Training:  96%|█████████▌| 24/25 [01:56<00:05,  5.01s/it]"
     ]
    },
    {
     "name": "stdout",
     "output_type": "stream",
     "text": [
      "Iteration 2944, Mini-batch Loss= 0.55162, Training Accuracy= 0.88281\n"
     ]
    },
    {
     "name": "stderr",
     "output_type": "stream",
     "text": [
      "AlexNet Training: 100%|██████████| 25/25 [02:02<00:00,  4.91s/it]"
     ]
    },
    {
     "name": "stdout",
     "output_type": "stream",
     "text": [
      "Iteration 3072, Mini-batch Loss= 0.45640, Training Accuracy= 0.89062\n",
      "Starting validation...\n"
     ]
    },
    {
     "name": "stderr",
     "output_type": "stream",
     "text": [
      "\n"
     ]
    },
    {
     "name": "stdout",
     "output_type": "stream",
     "text": [
      "Validation Accuracy = 0.41406\n",
      "2023-05-26 17:19:47.651196 Saving checkpoint of model...\n",
      "2023-05-26 17:19:49.040651 Model checkpoint saved at finetune_alexnet/CheckPoint/model_epoch7.ckpt\n",
      "2023-05-26 17:19:49.044085 Epoch number: 8\n"
     ]
    },
    {
     "name": "stderr",
     "output_type": "stream",
     "text": [
      "AlexNet Training:   4%|▍         | 1/25 [00:06<02:29,  6.23s/it]"
     ]
    },
    {
     "name": "stdout",
     "output_type": "stream",
     "text": [
      "Iteration 0, Mini-batch Loss= 0.41799, Training Accuracy= 0.90625\n"
     ]
    },
    {
     "name": "stderr",
     "output_type": "stream",
     "text": [
      "\r",
      "AlexNet Training:   8%|▊         | 2/25 [00:10<01:58,  5.15s/it]"
     ]
    },
    {
     "name": "stdout",
     "output_type": "stream",
     "text": [
      "Iteration 128, Mini-batch Loss= 0.38525, Training Accuracy= 0.96875\n"
     ]
    },
    {
     "name": "stderr",
     "output_type": "stream",
     "text": [
      "\r",
      "AlexNet Training:  12%|█▏        | 3/25 [00:14<01:37,  4.44s/it]"
     ]
    },
    {
     "name": "stdout",
     "output_type": "stream",
     "text": [
      "Iteration 256, Mini-batch Loss= 0.36935, Training Accuracy= 0.92969\n"
     ]
    },
    {
     "name": "stderr",
     "output_type": "stream",
     "text": [
      "\r",
      "AlexNet Training:  16%|█▌        | 4/25 [00:20<01:46,  5.05s/it]"
     ]
    },
    {
     "name": "stdout",
     "output_type": "stream",
     "text": [
      "Iteration 384, Mini-batch Loss= 0.43792, Training Accuracy= 0.89062\n"
     ]
    },
    {
     "name": "stderr",
     "output_type": "stream",
     "text": [
      "\r",
      "AlexNet Training:  20%|██        | 5/25 [00:25<01:39,  5.00s/it]"
     ]
    },
    {
     "name": "stdout",
     "output_type": "stream",
     "text": [
      "Iteration 512, Mini-batch Loss= 0.42451, Training Accuracy= 0.89062\n"
     ]
    },
    {
     "name": "stderr",
     "output_type": "stream",
     "text": [
      "\r",
      "AlexNet Training:  24%|██▍       | 6/25 [00:29<01:29,  4.69s/it]"
     ]
    },
    {
     "name": "stdout",
     "output_type": "stream",
     "text": [
      "Iteration 640, Mini-batch Loss= 0.37715, Training Accuracy= 0.93750\n"
     ]
    },
    {
     "name": "stderr",
     "output_type": "stream",
     "text": [
      "\r",
      "AlexNet Training:  28%|██▊       | 7/25 [00:35<01:32,  5.12s/it]"
     ]
    },
    {
     "name": "stdout",
     "output_type": "stream",
     "text": [
      "Iteration 768, Mini-batch Loss= 0.53610, Training Accuracy= 0.85938\n"
     ]
    },
    {
     "name": "stderr",
     "output_type": "stream",
     "text": [
      "\r",
      "AlexNet Training:  32%|███▏      | 8/25 [00:39<01:24,  4.97s/it]"
     ]
    },
    {
     "name": "stdout",
     "output_type": "stream",
     "text": [
      "Iteration 896, Mini-batch Loss= 0.39509, Training Accuracy= 0.92188\n"
     ]
    },
    {
     "name": "stderr",
     "output_type": "stream",
     "text": [
      "\r",
      "AlexNet Training:  36%|███▌      | 9/25 [00:43<01:14,  4.66s/it]"
     ]
    },
    {
     "name": "stdout",
     "output_type": "stream",
     "text": [
      "Iteration 1024, Mini-batch Loss= 0.47916, Training Accuracy= 0.89844\n"
     ]
    },
    {
     "name": "stderr",
     "output_type": "stream",
     "text": [
      "\r",
      "AlexNet Training:  40%|████      | 10/25 [00:49<01:14,  4.95s/it]"
     ]
    },
    {
     "name": "stdout",
     "output_type": "stream",
     "text": [
      "Iteration 1152, Mini-batch Loss= 0.40764, Training Accuracy= 0.92969\n"
     ]
    },
    {
     "name": "stderr",
     "output_type": "stream",
     "text": [
      "\r",
      "AlexNet Training:  44%|████▍     | 11/25 [00:54<01:09,  4.94s/it]"
     ]
    },
    {
     "name": "stdout",
     "output_type": "stream",
     "text": [
      "Iteration 1280, Mini-batch Loss= 0.40990, Training Accuracy= 0.89062\n"
     ]
    },
    {
     "name": "stderr",
     "output_type": "stream",
     "text": [
      "\r",
      "AlexNet Training:  48%|████▊     | 12/25 [00:59<01:03,  4.87s/it]"
     ]
    },
    {
     "name": "stdout",
     "output_type": "stream",
     "text": [
      "Iteration 1408, Mini-batch Loss= 0.49975, Training Accuracy= 0.86719\n"
     ]
    },
    {
     "name": "stderr",
     "output_type": "stream",
     "text": [
      "\r",
      "AlexNet Training:  52%|█████▏    | 13/25 [01:04<01:02,  5.19s/it]"
     ]
    },
    {
     "name": "stdout",
     "output_type": "stream",
     "text": [
      "Iteration 1536, Mini-batch Loss= 0.45232, Training Accuracy= 0.92188\n"
     ]
    },
    {
     "name": "stderr",
     "output_type": "stream",
     "text": [
      "\r",
      "AlexNet Training:  56%|█████▌    | 14/25 [01:09<00:56,  5.10s/it]"
     ]
    },
    {
     "name": "stdout",
     "output_type": "stream",
     "text": [
      "Iteration 1664, Mini-batch Loss= 0.43209, Training Accuracy= 0.91406\n"
     ]
    },
    {
     "name": "stderr",
     "output_type": "stream",
     "text": [
      "\r",
      "AlexNet Training:  60%|██████    | 15/25 [01:13<00:47,  4.74s/it]"
     ]
    },
    {
     "name": "stdout",
     "output_type": "stream",
     "text": [
      "Iteration 1792, Mini-batch Loss= 0.52729, Training Accuracy= 0.90625\n"
     ]
    },
    {
     "name": "stderr",
     "output_type": "stream",
     "text": [
      "\r",
      "AlexNet Training:  64%|██████▍   | 16/25 [01:19<00:45,  5.02s/it]"
     ]
    },
    {
     "name": "stdout",
     "output_type": "stream",
     "text": [
      "Iteration 1920, Mini-batch Loss= 0.47765, Training Accuracy= 0.89844\n"
     ]
    },
    {
     "name": "stderr",
     "output_type": "stream",
     "text": [
      "\r",
      "AlexNet Training:  68%|██████▊   | 17/25 [01:22<00:36,  4.51s/it]"
     ]
    },
    {
     "name": "stdout",
     "output_type": "stream",
     "text": [
      "Iteration 2048, Mini-batch Loss= 0.47523, Training Accuracy= 0.91406\n"
     ]
    },
    {
     "name": "stderr",
     "output_type": "stream",
     "text": [
      "\r",
      "AlexNet Training:  72%|███████▏  | 18/25 [01:27<00:31,  4.53s/it]"
     ]
    },
    {
     "name": "stdout",
     "output_type": "stream",
     "text": [
      "Iteration 2176, Mini-batch Loss= 0.50813, Training Accuracy= 0.87500\n"
     ]
    },
    {
     "name": "stderr",
     "output_type": "stream",
     "text": [
      "\r",
      "AlexNet Training:  76%|███████▌  | 19/25 [01:32<00:27,  4.65s/it]"
     ]
    },
    {
     "name": "stdout",
     "output_type": "stream",
     "text": [
      "Iteration 2304, Mini-batch Loss= 0.44274, Training Accuracy= 0.89844\n"
     ]
    },
    {
     "name": "stderr",
     "output_type": "stream",
     "text": [
      "\r",
      "AlexNet Training:  80%|████████  | 20/25 [01:36<00:22,  4.50s/it]"
     ]
    },
    {
     "name": "stdout",
     "output_type": "stream",
     "text": [
      "Iteration 2432, Mini-batch Loss= 0.55299, Training Accuracy= 0.82812\n"
     ]
    },
    {
     "name": "stderr",
     "output_type": "stream",
     "text": [
      "\r",
      "AlexNet Training:  84%|████████▍ | 21/25 [01:41<00:18,  4.59s/it]"
     ]
    },
    {
     "name": "stdout",
     "output_type": "stream",
     "text": [
      "Iteration 2560, Mini-batch Loss= 0.44021, Training Accuracy= 0.90625\n"
     ]
    },
    {
     "name": "stderr",
     "output_type": "stream",
     "text": [
      "\r",
      "AlexNet Training:  88%|████████▊ | 22/25 [01:46<00:14,  4.87s/it]"
     ]
    },
    {
     "name": "stdout",
     "output_type": "stream",
     "text": [
      "Iteration 2688, Mini-batch Loss= 0.52307, Training Accuracy= 0.84375\n"
     ]
    },
    {
     "name": "stderr",
     "output_type": "stream",
     "text": [
      "\r",
      "AlexNet Training:  92%|█████████▏| 23/25 [01:50<00:09,  4.51s/it]"
     ]
    },
    {
     "name": "stdout",
     "output_type": "stream",
     "text": [
      "Iteration 2816, Mini-batch Loss= 0.49750, Training Accuracy= 0.87500\n"
     ]
    },
    {
     "name": "stderr",
     "output_type": "stream",
     "text": [
      "\r",
      "AlexNet Training:  96%|█████████▌| 24/25 [01:54<00:04,  4.39s/it]"
     ]
    },
    {
     "name": "stdout",
     "output_type": "stream",
     "text": [
      "Iteration 2944, Mini-batch Loss= 0.47090, Training Accuracy= 0.86719\n"
     ]
    },
    {
     "name": "stderr",
     "output_type": "stream",
     "text": [
      "AlexNet Training: 100%|██████████| 25/25 [01:59<00:00,  4.78s/it]"
     ]
    },
    {
     "name": "stdout",
     "output_type": "stream",
     "text": [
      "Iteration 3072, Mini-batch Loss= 0.45784, Training Accuracy= 0.92188\n",
      "Starting validation...\n"
     ]
    },
    {
     "name": "stderr",
     "output_type": "stream",
     "text": [
      "\n"
     ]
    },
    {
     "name": "stdout",
     "output_type": "stream",
     "text": [
      "Validation Accuracy = 0.46094\n",
      "2023-05-26 17:22:06.939187 Saving checkpoint of model...\n",
      "2023-05-26 17:22:08.275714 Model checkpoint saved at finetune_alexnet/CheckPoint/model_epoch8.ckpt\n",
      "2023-05-26 17:22:08.275847 Epoch number: 9\n"
     ]
    },
    {
     "name": "stderr",
     "output_type": "stream",
     "text": [
      "AlexNet Training:   4%|▍         | 1/25 [00:05<02:09,  5.39s/it]"
     ]
    },
    {
     "name": "stdout",
     "output_type": "stream",
     "text": [
      "Iteration 0, Mini-batch Loss= 0.39586, Training Accuracy= 0.92188\n"
     ]
    },
    {
     "name": "stderr",
     "output_type": "stream",
     "text": [
      "\r",
      "AlexNet Training:   8%|▊         | 2/25 [00:09<01:52,  4.90s/it]"
     ]
    },
    {
     "name": "stdout",
     "output_type": "stream",
     "text": [
      "Iteration 128, Mini-batch Loss= 0.39781, Training Accuracy= 0.90625\n"
     ]
    },
    {
     "name": "stderr",
     "output_type": "stream",
     "text": [
      "\r",
      "AlexNet Training:  12%|█▏        | 3/25 [00:14<01:39,  4.52s/it]"
     ]
    },
    {
     "name": "stdout",
     "output_type": "stream",
     "text": [
      "Iteration 256, Mini-batch Loss= 0.41139, Training Accuracy= 0.91406\n"
     ]
    },
    {
     "name": "stderr",
     "output_type": "stream",
     "text": [
      "\r",
      "AlexNet Training:  16%|█▌        | 4/25 [00:19<01:38,  4.71s/it]"
     ]
    },
    {
     "name": "stdout",
     "output_type": "stream",
     "text": [
      "Iteration 384, Mini-batch Loss= 0.39588, Training Accuracy= 0.93750\n"
     ]
    },
    {
     "name": "stderr",
     "output_type": "stream",
     "text": [
      "\r",
      "AlexNet Training:  20%|██        | 5/25 [00:23<01:32,  4.61s/it]"
     ]
    },
    {
     "name": "stdout",
     "output_type": "stream",
     "text": [
      "Iteration 512, Mini-batch Loss= 0.38844, Training Accuracy= 0.91406\n"
     ]
    },
    {
     "name": "stderr",
     "output_type": "stream",
     "text": [
      "\r",
      "AlexNet Training:  24%|██▍       | 6/25 [00:27<01:21,  4.30s/it]"
     ]
    },
    {
     "name": "stdout",
     "output_type": "stream",
     "text": [
      "Iteration 640, Mini-batch Loss= 0.41077, Training Accuracy= 0.93750\n"
     ]
    },
    {
     "name": "stderr",
     "output_type": "stream",
     "text": [
      "\r",
      "AlexNet Training:  28%|██▊       | 7/25 [00:32<01:21,  4.54s/it]"
     ]
    },
    {
     "name": "stdout",
     "output_type": "stream",
     "text": [
      "Iteration 768, Mini-batch Loss= 0.46170, Training Accuracy= 0.88281\n"
     ]
    },
    {
     "name": "stderr",
     "output_type": "stream",
     "text": [
      "\r",
      "AlexNet Training:  32%|███▏      | 8/25 [00:36<01:14,  4.38s/it]"
     ]
    },
    {
     "name": "stdout",
     "output_type": "stream",
     "text": [
      "Iteration 896, Mini-batch Loss= 0.46814, Training Accuracy= 0.89062\n"
     ]
    },
    {
     "name": "stderr",
     "output_type": "stream",
     "text": [
      "\r",
      "AlexNet Training:  36%|███▌      | 9/25 [00:40<01:08,  4.30s/it]"
     ]
    },
    {
     "name": "stdout",
     "output_type": "stream",
     "text": [
      "Iteration 1024, Mini-batch Loss= 0.38163, Training Accuracy= 0.90625\n"
     ]
    },
    {
     "name": "stderr",
     "output_type": "stream",
     "text": [
      "\r",
      "AlexNet Training:  40%|████      | 10/25 [00:46<01:14,  4.96s/it]"
     ]
    },
    {
     "name": "stdout",
     "output_type": "stream",
     "text": [
      "Iteration 1152, Mini-batch Loss= 0.40694, Training Accuracy= 0.89844\n"
     ]
    },
    {
     "name": "stderr",
     "output_type": "stream",
     "text": [
      "\r",
      "AlexNet Training:  44%|████▍     | 11/25 [00:51<01:09,  4.95s/it]"
     ]
    },
    {
     "name": "stdout",
     "output_type": "stream",
     "text": [
      "Iteration 1280, Mini-batch Loss= 0.46711, Training Accuracy= 0.91406\n"
     ]
    },
    {
     "name": "stderr",
     "output_type": "stream",
     "text": [
      "\r",
      "AlexNet Training:  48%|████▊     | 12/25 [00:55<01:00,  4.65s/it]"
     ]
    },
    {
     "name": "stdout",
     "output_type": "stream",
     "text": [
      "Iteration 1408, Mini-batch Loss= 0.40502, Training Accuracy= 0.93750\n"
     ]
    },
    {
     "name": "stderr",
     "output_type": "stream",
     "text": [
      "\r",
      "AlexNet Training:  52%|█████▏    | 13/25 [01:01<01:01,  5.12s/it]"
     ]
    },
    {
     "name": "stdout",
     "output_type": "stream",
     "text": [
      "Iteration 1536, Mini-batch Loss= 0.49293, Training Accuracy= 0.89062\n"
     ]
    },
    {
     "name": "stderr",
     "output_type": "stream",
     "text": [
      "\r",
      "AlexNet Training:  56%|█████▌    | 14/25 [01:06<00:55,  5.04s/it]"
     ]
    },
    {
     "name": "stdout",
     "output_type": "stream",
     "text": [
      "Iteration 1664, Mini-batch Loss= 0.44184, Training Accuracy= 0.90625\n"
     ]
    },
    {
     "name": "stderr",
     "output_type": "stream",
     "text": [
      "\r",
      "AlexNet Training:  60%|██████    | 15/25 [01:11<00:48,  4.83s/it]"
     ]
    },
    {
     "name": "stdout",
     "output_type": "stream",
     "text": [
      "Iteration 1792, Mini-batch Loss= 0.39965, Training Accuracy= 0.95312\n"
     ]
    },
    {
     "name": "stderr",
     "output_type": "stream",
     "text": [
      "\r",
      "AlexNet Training:  64%|██████▍   | 16/25 [01:17<00:47,  5.22s/it]"
     ]
    },
    {
     "name": "stdout",
     "output_type": "stream",
     "text": [
      "Iteration 1920, Mini-batch Loss= 0.50053, Training Accuracy= 0.88281\n"
     ]
    },
    {
     "name": "stderr",
     "output_type": "stream",
     "text": [
      "\r",
      "AlexNet Training:  68%|██████▊   | 17/25 [01:21<00:38,  4.83s/it]"
     ]
    },
    {
     "name": "stdout",
     "output_type": "stream",
     "text": [
      "Iteration 2048, Mini-batch Loss= 0.47377, Training Accuracy= 0.89062\n"
     ]
    },
    {
     "name": "stderr",
     "output_type": "stream",
     "text": [
      "\r",
      "AlexNet Training:  72%|███████▏  | 18/25 [01:25<00:33,  4.72s/it]"
     ]
    },
    {
     "name": "stdout",
     "output_type": "stream",
     "text": [
      "Iteration 2176, Mini-batch Loss= 0.43968, Training Accuracy= 0.90625\n"
     ]
    },
    {
     "name": "stderr",
     "output_type": "stream",
     "text": [
      "\r",
      "AlexNet Training:  76%|███████▌  | 19/25 [01:31<00:30,  5.03s/it]"
     ]
    },
    {
     "name": "stdout",
     "output_type": "stream",
     "text": [
      "Iteration 2304, Mini-batch Loss= 0.44419, Training Accuracy= 0.92188\n"
     ]
    },
    {
     "name": "stderr",
     "output_type": "stream",
     "text": [
      "\r",
      "AlexNet Training:  80%|████████  | 20/25 [01:35<00:23,  4.63s/it]"
     ]
    },
    {
     "name": "stdout",
     "output_type": "stream",
     "text": [
      "Iteration 2432, Mini-batch Loss= 0.39840, Training Accuracy= 0.93750\n"
     ]
    },
    {
     "name": "stderr",
     "output_type": "stream",
     "text": [
      "\r",
      "AlexNet Training:  84%|████████▍ | 21/25 [01:39<00:18,  4.65s/it]"
     ]
    },
    {
     "name": "stdout",
     "output_type": "stream",
     "text": [
      "Iteration 2560, Mini-batch Loss= 0.37601, Training Accuracy= 0.95312\n"
     ]
    },
    {
     "name": "stderr",
     "output_type": "stream",
     "text": [
      "\r",
      "AlexNet Training:  88%|████████▊ | 22/25 [01:45<00:15,  5.03s/it]"
     ]
    },
    {
     "name": "stdout",
     "output_type": "stream",
     "text": [
      "Iteration 2688, Mini-batch Loss= 0.47337, Training Accuracy= 0.91406\n"
     ]
    },
    {
     "name": "stderr",
     "output_type": "stream",
     "text": [
      "\r",
      "AlexNet Training:  92%|█████████▏| 23/25 [01:50<00:09,  4.89s/it]"
     ]
    },
    {
     "name": "stdout",
     "output_type": "stream",
     "text": [
      "Iteration 2816, Mini-batch Loss= 0.44275, Training Accuracy= 0.91406\n"
     ]
    },
    {
     "name": "stderr",
     "output_type": "stream",
     "text": [
      "\r",
      "AlexNet Training:  96%|█████████▌| 24/25 [01:54<00:04,  4.56s/it]"
     ]
    },
    {
     "name": "stdout",
     "output_type": "stream",
     "text": [
      "Iteration 2944, Mini-batch Loss= 0.41822, Training Accuracy= 0.89844\n"
     ]
    },
    {
     "name": "stderr",
     "output_type": "stream",
     "text": [
      "AlexNet Training: 100%|██████████| 25/25 [02:00<00:00,  4.83s/it]"
     ]
    },
    {
     "name": "stdout",
     "output_type": "stream",
     "text": [
      "Iteration 3072, Mini-batch Loss= 0.38635, Training Accuracy= 0.92188\n",
      "Starting validation...\n"
     ]
    },
    {
     "name": "stderr",
     "output_type": "stream",
     "text": [
      "\n"
     ]
    },
    {
     "name": "stdout",
     "output_type": "stream",
     "text": [
      "Validation Accuracy = 0.46875\n",
      "2023-05-26 17:24:29.247041 Saving checkpoint of model...\n",
      "2023-05-26 17:24:30.545778 Model checkpoint saved at finetune_alexnet/CheckPoint/model_epoch9.ckpt\n",
      "2023-05-26 17:24:30.545875 Epoch number: 10\n"
     ]
    },
    {
     "name": "stderr",
     "output_type": "stream",
     "text": [
      "AlexNet Training:   4%|▍         | 1/25 [00:05<02:16,  5.69s/it]"
     ]
    },
    {
     "name": "stdout",
     "output_type": "stream",
     "text": [
      "Iteration 0, Mini-batch Loss= 0.38414, Training Accuracy= 0.96094\n"
     ]
    },
    {
     "name": "stderr",
     "output_type": "stream",
     "text": [
      "\r",
      "AlexNet Training:   8%|▊         | 2/25 [00:10<01:57,  5.11s/it]"
     ]
    },
    {
     "name": "stdout",
     "output_type": "stream",
     "text": [
      "Iteration 128, Mini-batch Loss= 0.38537, Training Accuracy= 0.94531\n"
     ]
    },
    {
     "name": "stderr",
     "output_type": "stream",
     "text": [
      "\r",
      "AlexNet Training:  12%|█▏        | 3/25 [00:14<01:42,  4.65s/it]"
     ]
    },
    {
     "name": "stdout",
     "output_type": "stream",
     "text": [
      "Iteration 256, Mini-batch Loss= 0.38953, Training Accuracy= 0.96094\n"
     ]
    },
    {
     "name": "stderr",
     "output_type": "stream",
     "text": [
      "\r",
      "AlexNet Training:  16%|█▌        | 4/25 [00:20<01:47,  5.11s/it]"
     ]
    },
    {
     "name": "stdout",
     "output_type": "stream",
     "text": [
      "Iteration 384, Mini-batch Loss= 0.42313, Training Accuracy= 0.91406\n"
     ]
    },
    {
     "name": "stderr",
     "output_type": "stream",
     "text": [
      "\r",
      "AlexNet Training:  20%|██        | 5/25 [00:24<01:34,  4.75s/it]"
     ]
    },
    {
     "name": "stdout",
     "output_type": "stream",
     "text": [
      "Iteration 512, Mini-batch Loss= 0.37448, Training Accuracy= 0.93750\n"
     ]
    },
    {
     "name": "stderr",
     "output_type": "stream",
     "text": [
      "\r",
      "AlexNet Training:  24%|██▍       | 6/25 [00:28<01:28,  4.66s/it]"
     ]
    },
    {
     "name": "stdout",
     "output_type": "stream",
     "text": [
      "Iteration 640, Mini-batch Loss= 0.40016, Training Accuracy= 0.92188\n"
     ]
    },
    {
     "name": "stderr",
     "output_type": "stream",
     "text": [
      "\r",
      "AlexNet Training:  28%|██▊       | 7/25 [00:34<01:31,  5.07s/it]"
     ]
    },
    {
     "name": "stdout",
     "output_type": "stream",
     "text": [
      "Iteration 768, Mini-batch Loss= 0.40744, Training Accuracy= 0.92969\n"
     ]
    },
    {
     "name": "stderr",
     "output_type": "stream",
     "text": [
      "\r",
      "AlexNet Training:  32%|███▏      | 8/25 [00:39<01:24,  4.94s/it]"
     ]
    },
    {
     "name": "stdout",
     "output_type": "stream",
     "text": [
      "Iteration 896, Mini-batch Loss= 0.43104, Training Accuracy= 0.93750\n"
     ]
    },
    {
     "name": "stderr",
     "output_type": "stream",
     "text": [
      "\r",
      "AlexNet Training:  36%|███▌      | 9/25 [00:43<01:16,  4.80s/it]"
     ]
    },
    {
     "name": "stdout",
     "output_type": "stream",
     "text": [
      "Iteration 1024, Mini-batch Loss= 0.46566, Training Accuracy= 0.89844\n"
     ]
    },
    {
     "name": "stderr",
     "output_type": "stream",
     "text": [
      "\r",
      "AlexNet Training:  40%|████      | 10/25 [00:49<01:13,  4.91s/it]"
     ]
    },
    {
     "name": "stdout",
     "output_type": "stream",
     "text": [
      "Iteration 1152, Mini-batch Loss= 0.42312, Training Accuracy= 0.92969\n"
     ]
    },
    {
     "name": "stderr",
     "output_type": "stream",
     "text": [
      "\r",
      "AlexNet Training:  44%|████▍     | 11/25 [00:53<01:06,  4.78s/it]"
     ]
    },
    {
     "name": "stdout",
     "output_type": "stream",
     "text": [
      "Iteration 1280, Mini-batch Loss= 0.36121, Training Accuracy= 0.92969\n"
     ]
    },
    {
     "name": "stderr",
     "output_type": "stream",
     "text": [
      "\r",
      "AlexNet Training:  48%|████▊     | 12/25 [00:57<00:57,  4.43s/it]"
     ]
    },
    {
     "name": "stdout",
     "output_type": "stream",
     "text": [
      "Iteration 1408, Mini-batch Loss= 0.37596, Training Accuracy= 0.95312\n"
     ]
    },
    {
     "name": "stderr",
     "output_type": "stream",
     "text": [
      "\r",
      "AlexNet Training:  52%|█████▏    | 13/25 [01:02<00:56,  4.68s/it]"
     ]
    },
    {
     "name": "stdout",
     "output_type": "stream",
     "text": [
      "Iteration 1536, Mini-batch Loss= 0.36447, Training Accuracy= 0.93750\n"
     ]
    },
    {
     "name": "stderr",
     "output_type": "stream",
     "text": [
      "\r",
      "AlexNet Training:  56%|█████▌    | 14/25 [01:07<00:52,  4.74s/it]"
     ]
    },
    {
     "name": "stdout",
     "output_type": "stream",
     "text": [
      "Iteration 1664, Mini-batch Loss= 0.32937, Training Accuracy= 0.97656\n"
     ]
    },
    {
     "name": "stderr",
     "output_type": "stream",
     "text": [
      "\r",
      "AlexNet Training:  60%|██████    | 15/25 [01:11<00:46,  4.63s/it]"
     ]
    },
    {
     "name": "stdout",
     "output_type": "stream",
     "text": [
      "Iteration 1792, Mini-batch Loss= 0.39461, Training Accuracy= 0.90625\n"
     ]
    },
    {
     "name": "stderr",
     "output_type": "stream",
     "text": [
      "\r",
      "AlexNet Training:  64%|██████▍   | 16/25 [01:18<00:46,  5.16s/it]"
     ]
    },
    {
     "name": "stdout",
     "output_type": "stream",
     "text": [
      "Iteration 1920, Mini-batch Loss= 0.37687, Training Accuracy= 0.92188\n"
     ]
    },
    {
     "name": "stderr",
     "output_type": "stream",
     "text": [
      "\r",
      "AlexNet Training:  68%|██████▊   | 17/25 [01:21<00:37,  4.72s/it]"
     ]
    },
    {
     "name": "stdout",
     "output_type": "stream",
     "text": [
      "Iteration 2048, Mini-batch Loss= 0.41587, Training Accuracy= 0.92969\n"
     ]
    },
    {
     "name": "stderr",
     "output_type": "stream",
     "text": [
      "\r",
      "AlexNet Training:  72%|███████▏  | 18/25 [01:25<00:30,  4.41s/it]"
     ]
    },
    {
     "name": "stdout",
     "output_type": "stream",
     "text": [
      "Iteration 2176, Mini-batch Loss= 0.38967, Training Accuracy= 0.94531\n"
     ]
    },
    {
     "name": "stderr",
     "output_type": "stream",
     "text": [
      "\r",
      "AlexNet Training:  76%|███████▌  | 19/25 [01:31<00:29,  4.85s/it]"
     ]
    },
    {
     "name": "stdout",
     "output_type": "stream",
     "text": [
      "Iteration 2304, Mini-batch Loss= 0.38498, Training Accuracy= 0.93750\n"
     ]
    },
    {
     "name": "stderr",
     "output_type": "stream",
     "text": [
      "\r",
      "AlexNet Training:  80%|████████  | 20/25 [01:35<00:23,  4.71s/it]"
     ]
    },
    {
     "name": "stdout",
     "output_type": "stream",
     "text": [
      "Iteration 2432, Mini-batch Loss= 0.40530, Training Accuracy= 0.93750\n"
     ]
    },
    {
     "name": "stderr",
     "output_type": "stream",
     "text": [
      "\r",
      "AlexNet Training:  84%|████████▍ | 21/25 [01:40<00:18,  4.67s/it]"
     ]
    },
    {
     "name": "stdout",
     "output_type": "stream",
     "text": [
      "Iteration 2560, Mini-batch Loss= 0.46585, Training Accuracy= 0.91406\n"
     ]
    },
    {
     "name": "stderr",
     "output_type": "stream",
     "text": [
      "\r",
      "AlexNet Training:  88%|████████▊ | 22/25 [01:46<00:15,  5.15s/it]"
     ]
    },
    {
     "name": "stdout",
     "output_type": "stream",
     "text": [
      "Iteration 2688, Mini-batch Loss= 0.49490, Training Accuracy= 0.89844\n"
     ]
    },
    {
     "name": "stderr",
     "output_type": "stream",
     "text": [
      "\r",
      "AlexNet Training:  92%|█████████▏| 23/25 [01:51<00:10,  5.10s/it]"
     ]
    },
    {
     "name": "stdout",
     "output_type": "stream",
     "text": [
      "Iteration 2816, Mini-batch Loss= 0.36671, Training Accuracy= 0.93750\n"
     ]
    },
    {
     "name": "stderr",
     "output_type": "stream",
     "text": [
      "\r",
      "AlexNet Training:  96%|█████████▌| 24/25 [01:56<00:04,  4.93s/it]"
     ]
    },
    {
     "name": "stdout",
     "output_type": "stream",
     "text": [
      "Iteration 2944, Mini-batch Loss= 0.45702, Training Accuracy= 0.92969\n"
     ]
    },
    {
     "name": "stderr",
     "output_type": "stream",
     "text": [
      "AlexNet Training: 100%|██████████| 25/25 [02:02<00:00,  4.90s/it]"
     ]
    },
    {
     "name": "stdout",
     "output_type": "stream",
     "text": [
      "Iteration 3072, Mini-batch Loss= 0.43285, Training Accuracy= 0.94531\n",
      "Starting validation...\n"
     ]
    },
    {
     "name": "stderr",
     "output_type": "stream",
     "text": [
      "\n"
     ]
    },
    {
     "name": "stdout",
     "output_type": "stream",
     "text": [
      "Validation Accuracy = 0.40625\n",
      "2023-05-26 17:26:53.290560 Saving checkpoint of model...\n",
      "2023-05-26 17:26:54.833533 Model checkpoint saved at finetune_alexnet/CheckPoint/model_epoch10.ckpt\n"
     ]
    }
   ],
   "source": [
    "# Start Tensorflow session\n",
    "with tf.Session() as sess:\n",
    "    \n",
    "    # Initialize all variables\n",
    "    sess.run(tf.global_variables_initializer())\n",
    "  \n",
    "    # Add the model graph to TensorBoard\n",
    "    writer.add_graph(sess.graph)\n",
    "  \n",
    "    # Load the pretrained weights into the non-trainable layer\n",
    "    model.load_initial_weights(sess)\n",
    "  \n",
    "    print(\"{} Start training...\".format(datetime.now()))\n",
    "    print(\"{} Open Tensorboard at --logdir {}\".format(datetime.now(), \n",
    "                                                    filewriter_path))\n",
    "    # Loop over number of epochs\n",
    "    for epoch in range(num_epochs):\n",
    "        \n",
    "        print(\"{} Epoch number: {}\".format(datetime.now(), epoch+1))\n",
    "        \n",
    "        step = 1\n",
    "        \n",
    "        for step in tqdm(range(train_batches_per_epoch), desc=\"AlexNet Training\"):\n",
    "        #for step in tqdm(range(train_batches_per_epoch)):\n",
    "            # Get a batch of images and labels\n",
    "            batch_xs, batch_ys = train_generator.next_batch(batch_size)\n",
    "            \n",
    "            #######################################################################################\n",
    "            #TODO: Run the training operation, print the current loss value write the symmaries.  #\n",
    "            #      The summarries must be written every 3 batches                                 #\n",
    "            #######################################################################################\n",
    "                              \n",
    "            #pass\n",
    "                 \n",
    "            sess.run(optimizer, feed_dict={x: batch_xs, y: batch_ys, keep_prob: dropout_rate})\n",
    "\n",
    "            loss_value, train_acc = sess.run([loss, accuracy], feed_dict={x: batch_xs,\n",
    "                                                                    y: batch_ys,\n",
    "                                                                    keep_prob: 1.0})\n",
    "            #obtain the summaries every display_step = 3 batches\n",
    "            if step % display_step == 0:\n",
    "                \n",
    "                summary = sess.run(merged_summary, feed_dict={x: batch_xs, \n",
    "                                                              y: batch_ys, \n",
    "                                                              keep_prob: 1.0})\n",
    "                #write the summaries to monitor\n",
    "                writer.add_summary(summary, epoch*train_batches_per_epoch + step)\n",
    "\n",
    "            print(\"Iteration {}, Mini-batch Loss= {:.5f}, Training Accuracy= {:.5f}\".format(step*batch_size, loss_value, train_acc))\n",
    "            \n",
    "            step += 1\n",
    "            \n",
    "            #End of this task\n",
    "            \n",
    "        ############################################################\n",
    "        #TODO: Validate the model on the ENTIRE validation set     #\n",
    "        #      Print the final validation accuracy of your model   #\n",
    "        # Do not forget to use validation batches                  #\n",
    "        # use val_batches_per_epoch  variable                      #\n",
    "        ############################################################   \n",
    "        \n",
    "        #pass\n",
    "        \n",
    "        # perform validation on the validation batches\n",
    "        print(\"Starting validation...\")\n",
    "        validation_acc, validation_count = 0, 0\n",
    "        for _ in range(val_batches_per_epoch):\n",
    "            batch_tx, batch_ty = val_generator.next_batch(batch_size)\n",
    "            val_acc = sess.run(accuracy, feed_dict={x: batch_tx,\n",
    "                                                y: batch_ty,\n",
    "                                                keep_prob: 1.0})\n",
    "        validation_acc += val_acc\n",
    "        validation_count += 1\n",
    "        validation_acc /= validation_count\n",
    "        print(\"Validation Accuracy = {:.5f}\".format(validation_acc))\n",
    "        \n",
    "        ##############################################################################\n",
    "        #                             END OF YOUR CODE                               #\n",
    "        ##############################################################################\n",
    "        \n",
    "        # Reset the file pointer of the image data generator\n",
    "        val_generator.reset_pointer()\n",
    "        train_generator.reset_pointer()\n",
    "        \n",
    "        print(\"{} Saving checkpoint of model...\".format(datetime.now()))  \n",
    "        \n",
    "        #save checkpoint of the model\n",
    "        checkpoint_name = os.path.join(checkpoint_path, 'model_epoch'+str(epoch+1)+'.ckpt')\n",
    "        save_path = saver.save(sess, checkpoint_name)  \n",
    "        \n",
    "        print(\"{} Model checkpoint saved at {}\".format(datetime.now(), checkpoint_name))\n",
    "        "
   ]
  },
  {
   "cell_type": "code",
   "execution_count": null,
   "metadata": {},
   "outputs": [],
   "source": []
  }
 ],
 "metadata": {
  "colab": {
   "collapsed_sections": [],
   "name": "Assignment_3a.ipynb",
   "provenance": []
  },
  "kernelspec": {
   "display_name": "Python 3 (ipykernel)",
   "language": "python",
   "name": "python3"
  },
  "language_info": {
   "codemirror_mode": {
    "name": "ipython",
    "version": 3
   },
   "file_extension": ".py",
   "mimetype": "text/x-python",
   "name": "python",
   "nbconvert_exporter": "python",
   "pygments_lexer": "ipython3",
   "version": "3.5.6"
  }
 },
 "nbformat": 4,
 "nbformat_minor": 1
}
